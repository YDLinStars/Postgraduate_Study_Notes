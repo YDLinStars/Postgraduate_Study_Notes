{
 "cells": [
  {
   "cell_type": "code",
   "execution_count": 2,
   "metadata": {},
   "outputs": [],
   "source": [
    "import tensorflow as tf"
   ]
  },
  {
   "cell_type": "code",
   "execution_count": 3,
   "metadata": {},
   "outputs": [
    {
     "name": "stdout",
     "output_type": "stream",
     "text": [
      "Tensorflow Version: 2.0.0-alpha0\n"
     ]
    }
   ],
   "source": [
    "print('Tensorflow Version: {}'.format(tf.__version__))"
   ]
  },
  {
   "cell_type": "code",
   "execution_count": 4,
   "metadata": {},
   "outputs": [],
   "source": [
    "import pandas as pd\n",
    "import numpy as np\n",
    "import matplotlib.pyplot as plt\n",
    "%matplotlib inline"
   ]
  },
  {
   "cell_type": "code",
   "execution_count": 7,
   "metadata": {},
   "outputs": [],
   "source": [
    "data = pd.read_csv('dataset/credit-a.csv', header=None)"
   ]
  },
  {
   "cell_type": "code",
   "execution_count": 8,
   "metadata": {},
   "outputs": [
    {
     "data": {
      "text/html": [
       "<div>\n",
       "<style scoped>\n",
       "    .dataframe tbody tr th:only-of-type {\n",
       "        vertical-align: middle;\n",
       "    }\n",
       "\n",
       "    .dataframe tbody tr th {\n",
       "        vertical-align: top;\n",
       "    }\n",
       "\n",
       "    .dataframe thead th {\n",
       "        text-align: right;\n",
       "    }\n",
       "</style>\n",
       "<table border=\"1\" class=\"dataframe\">\n",
       "  <thead>\n",
       "    <tr style=\"text-align: right;\">\n",
       "      <th></th>\n",
       "      <th>0</th>\n",
       "      <th>1</th>\n",
       "      <th>2</th>\n",
       "      <th>3</th>\n",
       "      <th>4</th>\n",
       "      <th>5</th>\n",
       "      <th>6</th>\n",
       "      <th>7</th>\n",
       "      <th>8</th>\n",
       "      <th>9</th>\n",
       "      <th>10</th>\n",
       "      <th>11</th>\n",
       "      <th>12</th>\n",
       "      <th>13</th>\n",
       "      <th>14</th>\n",
       "      <th>15</th>\n",
       "    </tr>\n",
       "  </thead>\n",
       "  <tbody>\n",
       "    <tr>\n",
       "      <th>0</th>\n",
       "      <td>0</td>\n",
       "      <td>30.83</td>\n",
       "      <td>0.000</td>\n",
       "      <td>0</td>\n",
       "      <td>0</td>\n",
       "      <td>9</td>\n",
       "      <td>0</td>\n",
       "      <td>1.25</td>\n",
       "      <td>0</td>\n",
       "      <td>0</td>\n",
       "      <td>1</td>\n",
       "      <td>1</td>\n",
       "      <td>0</td>\n",
       "      <td>202</td>\n",
       "      <td>0.0</td>\n",
       "      <td>-1</td>\n",
       "    </tr>\n",
       "    <tr>\n",
       "      <th>1</th>\n",
       "      <td>1</td>\n",
       "      <td>58.67</td>\n",
       "      <td>4.460</td>\n",
       "      <td>0</td>\n",
       "      <td>0</td>\n",
       "      <td>8</td>\n",
       "      <td>1</td>\n",
       "      <td>3.04</td>\n",
       "      <td>0</td>\n",
       "      <td>0</td>\n",
       "      <td>6</td>\n",
       "      <td>1</td>\n",
       "      <td>0</td>\n",
       "      <td>43</td>\n",
       "      <td>560.0</td>\n",
       "      <td>-1</td>\n",
       "    </tr>\n",
       "    <tr>\n",
       "      <th>2</th>\n",
       "      <td>1</td>\n",
       "      <td>24.50</td>\n",
       "      <td>0.500</td>\n",
       "      <td>0</td>\n",
       "      <td>0</td>\n",
       "      <td>8</td>\n",
       "      <td>1</td>\n",
       "      <td>1.50</td>\n",
       "      <td>0</td>\n",
       "      <td>1</td>\n",
       "      <td>0</td>\n",
       "      <td>1</td>\n",
       "      <td>0</td>\n",
       "      <td>280</td>\n",
       "      <td>824.0</td>\n",
       "      <td>-1</td>\n",
       "    </tr>\n",
       "    <tr>\n",
       "      <th>3</th>\n",
       "      <td>0</td>\n",
       "      <td>27.83</td>\n",
       "      <td>1.540</td>\n",
       "      <td>0</td>\n",
       "      <td>0</td>\n",
       "      <td>9</td>\n",
       "      <td>0</td>\n",
       "      <td>3.75</td>\n",
       "      <td>0</td>\n",
       "      <td>0</td>\n",
       "      <td>5</td>\n",
       "      <td>0</td>\n",
       "      <td>0</td>\n",
       "      <td>100</td>\n",
       "      <td>3.0</td>\n",
       "      <td>-1</td>\n",
       "    </tr>\n",
       "    <tr>\n",
       "      <th>4</th>\n",
       "      <td>0</td>\n",
       "      <td>20.17</td>\n",
       "      <td>5.625</td>\n",
       "      <td>0</td>\n",
       "      <td>0</td>\n",
       "      <td>9</td>\n",
       "      <td>0</td>\n",
       "      <td>1.71</td>\n",
       "      <td>0</td>\n",
       "      <td>1</td>\n",
       "      <td>0</td>\n",
       "      <td>1</td>\n",
       "      <td>2</td>\n",
       "      <td>120</td>\n",
       "      <td>0.0</td>\n",
       "      <td>-1</td>\n",
       "    </tr>\n",
       "  </tbody>\n",
       "</table>\n",
       "</div>"
      ],
      "text/plain": [
       "   0      1      2   3   4   5   6     7   8   9   10  11  12   13     14  15\n",
       "0   0  30.83  0.000   0   0   9   0  1.25   0   0   1   1   0  202    0.0  -1\n",
       "1   1  58.67  4.460   0   0   8   1  3.04   0   0   6   1   0   43  560.0  -1\n",
       "2   1  24.50  0.500   0   0   8   1  1.50   0   1   0   1   0  280  824.0  -1\n",
       "3   0  27.83  1.540   0   0   9   0  3.75   0   0   5   0   0  100    3.0  -1\n",
       "4   0  20.17  5.625   0   0   9   0  1.71   0   1   0   1   2  120    0.0  -1"
      ]
     },
     "execution_count": 8,
     "metadata": {},
     "output_type": "execute_result"
    }
   ],
   "source": [
    "data.head()"
   ]
  },
  {
   "cell_type": "code",
   "execution_count": 9,
   "metadata": {},
   "outputs": [
    {
     "data": {
      "text/plain": [
       " 1    357\n",
       "-1    296\n",
       "Name: 15, dtype: int64"
      ]
     },
     "execution_count": 9,
     "metadata": {},
     "output_type": "execute_result"
    }
   ],
   "source": [
    "data.iloc[:, -1].value_counts()"
   ]
  },
  {
   "cell_type": "code",
   "execution_count": 10,
   "metadata": {},
   "outputs": [],
   "source": [
    "x = data.iloc[:, :-1]\n",
    "y = data.iloc[:, -1].replace(-1, 0)"
   ]
  },
  {
   "cell_type": "code",
   "execution_count": 11,
   "metadata": {},
   "outputs": [],
   "source": [
    "model = tf.keras.Sequential()"
   ]
  },
  {
   "cell_type": "code",
   "execution_count": 12,
   "metadata": {},
   "outputs": [],
   "source": [
    "model.add(tf.keras.layers.Dense(4, input_shape=(15,), activation='relu'))\n",
    "model.add(tf.keras.layers.Dense(4, activation='relu'))\n",
    "model.add(tf.keras.layers.Dense(1, activation='sigmoid'))"
   ]
  },
  {
   "cell_type": "code",
   "execution_count": 13,
   "metadata": {},
   "outputs": [
    {
     "name": "stdout",
     "output_type": "stream",
     "text": [
      "Model: \"sequential\"\n",
      "_________________________________________________________________\n",
      "Layer (type)                 Output Shape              Param #   \n",
      "=================================================================\n",
      "dense (Dense)                (None, 4)                 64        \n",
      "_________________________________________________________________\n",
      "dense_1 (Dense)              (None, 4)                 20        \n",
      "_________________________________________________________________\n",
      "dense_2 (Dense)              (None, 1)                 5         \n",
      "=================================================================\n",
      "Total params: 89\n",
      "Trainable params: 89\n",
      "Non-trainable params: 0\n",
      "_________________________________________________________________\n"
     ]
    }
   ],
   "source": [
    "model.summary()"
   ]
  },
  {
   "cell_type": "code",
   "execution_count": 14,
   "metadata": {},
   "outputs": [],
   "source": [
    "model.compile(optimizer='adam',\n",
    "              loss='binary_crossentropy',\n",
    "              metrics=['acc']\n",
    ")"
   ]
  },
  {
   "cell_type": "code",
   "execution_count": 15,
   "metadata": {},
   "outputs": [
    {
     "name": "stdout",
     "output_type": "stream",
     "text": [
      "Epoch 1/100\n",
      "653/653 [==============================] - 0s 222us/sample - loss: 283.7279 - acc: 0.5467\n",
      "Epoch 2/100\n",
      "653/653 [==============================] - 0s 29us/sample - loss: 257.2484 - acc: 0.5467\n",
      "Epoch 3/100\n",
      "653/653 [==============================] - 0s 33us/sample - loss: 233.0358 - acc: 0.5467\n",
      "Epoch 4/100\n",
      "653/653 [==============================] - 0s 26us/sample - loss: 211.3778 - acc: 0.5467\n",
      "Epoch 5/100\n",
      "653/653 [==============================] - 0s 31us/sample - loss: 190.8289 - acc: 0.5467\n",
      "Epoch 6/100\n",
      "653/653 [==============================] - 0s 27us/sample - loss: 172.2546 - acc: 0.5498\n",
      "Epoch 7/100\n",
      "653/653 [==============================] - 0s 35us/sample - loss: 157.3910 - acc: 0.5406\n",
      "Epoch 8/100\n",
      "653/653 [==============================] - 0s 24us/sample - loss: 141.7961 - acc: 0.5314\n",
      "Epoch 9/100\n",
      "653/653 [==============================] - 0s 31us/sample - loss: 128.7648 - acc: 0.5268\n",
      "Epoch 10/100\n",
      "653/653 [==============================] - 0s 34us/sample - loss: 117.2219 - acc: 0.5237\n",
      "Epoch 11/100\n",
      "653/653 [==============================] - 0s 26us/sample - loss: 106.3069 - acc: 0.5237\n",
      "Epoch 12/100\n",
      "653/653 [==============================] - 0s 26us/sample - loss: 97.1894 - acc: 0.5314\n",
      "Epoch 13/100\n",
      "653/653 [==============================] - 0s 32us/sample - loss: 88.8153 - acc: 0.5329\n",
      "Epoch 14/100\n",
      "653/653 [==============================] - 0s 29us/sample - loss: 80.5441 - acc: 0.5360\n",
      "Epoch 15/100\n",
      "653/653 [==============================] - 0s 27us/sample - loss: 73.6151 - acc: 0.5345\n",
      "Epoch 16/100\n",
      "653/653 [==============================] - 0s 31us/sample - loss: 67.1415 - acc: 0.5115\n",
      "Epoch 17/100\n",
      "653/653 [==============================] - 0s 26us/sample - loss: 61.2143 - acc: 0.5023\n",
      "Epoch 18/100\n",
      "653/653 [==============================] - 0s 40us/sample - loss: 55.8352 - acc: 0.4931\n",
      "Epoch 19/100\n",
      "653/653 [==============================] - 0s 29us/sample - loss: 50.6759 - acc: 0.4977\n",
      "Epoch 20/100\n",
      "653/653 [==============================] - 0s 26us/sample - loss: 46.6285 - acc: 0.5069\n",
      "Epoch 21/100\n",
      "653/653 [==============================] - 0s 34us/sample - loss: 42.5317 - acc: 0.4992\n",
      "Epoch 22/100\n",
      "653/653 [==============================] - 0s 29us/sample - loss: 38.9789 - acc: 0.5008\n",
      "Epoch 23/100\n",
      "653/653 [==============================] - 0s 27us/sample - loss: 35.2578 - acc: 0.5023\n",
      "Epoch 24/100\n",
      "653/653 [==============================] - ETA: 0s - loss: 18.0825 - acc: 0.50 - 0s 31us/sample - loss: 32.4101 - acc: 0.5054\n",
      "Epoch 25/100\n",
      "653/653 [==============================] - 0s 35us/sample - loss: 29.4445 - acc: 0.5008\n",
      "Epoch 26/100\n",
      "653/653 [==============================] - 0s 23us/sample - loss: 26.5672 - acc: 0.5130\n",
      "Epoch 27/100\n",
      "653/653 [==============================] - 0s 29us/sample - loss: 24.1787 - acc: 0.5222\n",
      "Epoch 28/100\n",
      "653/653 [==============================] - 0s 31us/sample - loss: 22.0136 - acc: 0.5283\n",
      "Epoch 29/100\n",
      "653/653 [==============================] - 0s 34us/sample - loss: 19.8599 - acc: 0.5360\n",
      "Epoch 30/100\n",
      "653/653 [==============================] - 0s 29us/sample - loss: 18.0299 - acc: 0.5436\n",
      "Epoch 31/100\n",
      "653/653 [==============================] - 0s 37us/sample - loss: 16.2235 - acc: 0.5467\n",
      "Epoch 32/100\n",
      "653/653 [==============================] - 0s 29us/sample - loss: 14.6557 - acc: 0.5498\n",
      "Epoch 33/100\n",
      "653/653 [==============================] - 0s 27us/sample - loss: 13.1074 - acc: 0.5498\n",
      "Epoch 34/100\n",
      "653/653 [==============================] - 0s 34us/sample - loss: 11.8988 - acc: 0.5482\n",
      "Epoch 35/100\n",
      "653/653 [==============================] - 0s 31us/sample - loss: 10.4704 - acc: 0.5482\n",
      "Epoch 36/100\n",
      "653/653 [==============================] - 0s 26us/sample - loss: 9.2859 - acc: 0.5590\n",
      "Epoch 37/100\n",
      "653/653 [==============================] - 0s 35us/sample - loss: 8.2404 - acc: 0.5636\n",
      "Epoch 38/100\n",
      "653/653 [==============================] - 0s 32us/sample - loss: 7.0988 - acc: 0.5651\n",
      "Epoch 39/100\n",
      "653/653 [==============================] - 0s 29us/sample - loss: 6.1580 - acc: 0.5666\n",
      "Epoch 40/100\n",
      "653/653 [==============================] - 0s 34us/sample - loss: 5.2377 - acc: 0.5773\n",
      "Epoch 41/100\n",
      "653/653 [==============================] - 0s 31us/sample - loss: 4.4237 - acc: 0.5835\n",
      "Epoch 42/100\n",
      "653/653 [==============================] - 0s 37us/sample - loss: 3.5901 - acc: 0.5896\n",
      "Epoch 43/100\n",
      "653/653 [==============================] - 0s 29us/sample - loss: 2.9218 - acc: 0.6126\n",
      "Epoch 44/100\n",
      "653/653 [==============================] - 0s 31us/sample - loss: 2.2633 - acc: 0.6172\n",
      "Epoch 45/100\n",
      "653/653 [==============================] - 0s 38us/sample - loss: 1.6878 - acc: 0.6233\n",
      "Epoch 46/100\n",
      "653/653 [==============================] - 0s 26us/sample - loss: 1.2063 - acc: 0.6340\n",
      "Epoch 47/100\n",
      "653/653 [==============================] - 0s 29us/sample - loss: 0.8285 - acc: 0.6585\n",
      "Epoch 48/100\n",
      "653/653 [==============================] - 0s 34us/sample - loss: 0.6547 - acc: 0.6692\n",
      "Epoch 49/100\n",
      "653/653 [==============================] - 0s 27us/sample - loss: 0.6543 - acc: 0.6692\n",
      "Epoch 50/100\n",
      "653/653 [==============================] - 0s 27us/sample - loss: 0.6538 - acc: 0.6692\n",
      "Epoch 51/100\n",
      "653/653 [==============================] - 0s 27us/sample - loss: 0.6533 - acc: 0.6692\n",
      "Epoch 52/100\n",
      "653/653 [==============================] - 0s 29us/sample - loss: 0.6526 - acc: 0.6692\n",
      "Epoch 53/100\n",
      "653/653 [==============================] - 0s 29us/sample - loss: 0.6521 - acc: 0.6708\n",
      "Epoch 54/100\n",
      "653/653 [==============================] - 0s 29us/sample - loss: 0.6517 - acc: 0.6692\n",
      "Epoch 55/100\n",
      "653/653 [==============================] - 0s 24us/sample - loss: 0.6514 - acc: 0.6662\n",
      "Epoch 56/100\n",
      "653/653 [==============================] - 0s 32us/sample - loss: 0.6507 - acc: 0.6677\n",
      "Epoch 57/100\n",
      "653/653 [==============================] - 0s 27us/sample - loss: 0.6501 - acc: 0.6677\n",
      "Epoch 58/100\n",
      "653/653 [==============================] - 0s 24us/sample - loss: 0.6500 - acc: 0.6692\n",
      "Epoch 59/100\n",
      "653/653 [==============================] - 0s 31us/sample - loss: 0.6494 - acc: 0.6677\n",
      "Epoch 60/100\n",
      "653/653 [==============================] - 0s 34us/sample - loss: 0.6486 - acc: 0.6692\n",
      "Epoch 61/100\n",
      "653/653 [==============================] - 0s 27us/sample - loss: 0.6483 - acc: 0.6677\n",
      "Epoch 62/100\n",
      "653/653 [==============================] - 0s 29us/sample - loss: 0.6480 - acc: 0.6662\n",
      "Epoch 63/100\n",
      "653/653 [==============================] - 0s 27us/sample - loss: 0.6474 - acc: 0.6677\n",
      "Epoch 64/100\n",
      "653/653 [==============================] - 0s 32us/sample - loss: 0.6475 - acc: 0.6677\n",
      "Epoch 65/100\n",
      "653/653 [==============================] - 0s 26us/sample - loss: 0.6461 - acc: 0.6631\n",
      "Epoch 66/100\n",
      "653/653 [==============================] - 0s 31us/sample - loss: 0.6460 - acc: 0.6692\n",
      "Epoch 67/100\n",
      "653/653 [==============================] - 0s 31us/sample - loss: 0.6455 - acc: 0.6692\n",
      "Epoch 68/100\n",
      "653/653 [==============================] - 0s 31us/sample - loss: 0.6458 - acc: 0.6708\n",
      "Epoch 69/100\n",
      "653/653 [==============================] - 0s 24us/sample - loss: 0.6444 - acc: 0.6692\n",
      "Epoch 70/100\n",
      "653/653 [==============================] - 0s 26us/sample - loss: 0.6440 - acc: 0.6692\n",
      "Epoch 71/100\n",
      "653/653 [==============================] - 0s 32us/sample - loss: 0.6435 - acc: 0.6692\n",
      "Epoch 72/100\n",
      "653/653 [==============================] - 0s 30us/sample - loss: 0.6432 - acc: 0.6708\n",
      "Epoch 73/100\n",
      "653/653 [==============================] - 0s 26us/sample - loss: 0.6430 - acc: 0.6692\n",
      "Epoch 74/100\n",
      "653/653 [==============================] - 0s 34us/sample - loss: 0.6423 - acc: 0.6708\n",
      "Epoch 75/100\n",
      "653/653 [==============================] - 0s 27us/sample - loss: 0.6419 - acc: 0.6692\n",
      "Epoch 76/100\n",
      "653/653 [==============================] - 0s 27us/sample - loss: 0.6413 - acc: 0.6738\n",
      "Epoch 77/100\n",
      "653/653 [==============================] - 0s 29us/sample - loss: 0.6412 - acc: 0.6753\n",
      "Epoch 78/100\n",
      "653/653 [==============================] - 0s 26us/sample - loss: 0.6403 - acc: 0.6753\n",
      "Epoch 79/100\n",
      "653/653 [==============================] - 0s 32us/sample - loss: 0.6399 - acc: 0.6753\n",
      "Epoch 80/100\n",
      "653/653 [==============================] - 0s 27us/sample - loss: 0.6396 - acc: 0.6753\n",
      "Epoch 81/100\n",
      "653/653 [==============================] - 0s 26us/sample - loss: 0.6392 - acc: 0.6769\n",
      "Epoch 82/100\n"
     ]
    },
    {
     "name": "stdout",
     "output_type": "stream",
     "text": [
      "653/653 [==============================] - 0s 27us/sample - loss: 0.6388 - acc: 0.6769\n",
      "Epoch 83/100\n",
      "653/653 [==============================] - 0s 32us/sample - loss: 0.6382 - acc: 0.6784\n",
      "Epoch 84/100\n",
      "653/653 [==============================] - 0s 26us/sample - loss: 0.6379 - acc: 0.6799\n",
      "Epoch 85/100\n",
      "653/653 [==============================] - 0s 26us/sample - loss: 0.6373 - acc: 0.6799\n",
      "Epoch 86/100\n",
      "653/653 [==============================] - 0s 29us/sample - loss: 0.6371 - acc: 0.6815\n",
      "Epoch 87/100\n",
      "653/653 [==============================] - 0s 27us/sample - loss: 0.6367 - acc: 0.6815\n",
      "Epoch 88/100\n",
      "653/653 [==============================] - 0s 24us/sample - loss: 0.6362 - acc: 0.6815\n",
      "Epoch 89/100\n",
      "653/653 [==============================] - 0s 31us/sample - loss: 0.6359 - acc: 0.6830\n",
      "Epoch 90/100\n",
      "653/653 [==============================] - 0s 26us/sample - loss: 0.6358 - acc: 0.6815\n",
      "Epoch 91/100\n",
      "653/653 [==============================] - 0s 32us/sample - loss: 0.6356 - acc: 0.6815\n",
      "Epoch 92/100\n",
      "653/653 [==============================] - 0s 26us/sample - loss: 0.6356 - acc: 0.6830\n",
      "Epoch 93/100\n",
      "653/653 [==============================] - 0s 29us/sample - loss: 0.6342 - acc: 0.6861\n",
      "Epoch 94/100\n",
      "653/653 [==============================] - 0s 26us/sample - loss: 0.6338 - acc: 0.6876\n",
      "Epoch 95/100\n",
      "653/653 [==============================] - 0s 26us/sample - loss: 0.6330 - acc: 0.6861\n",
      "Epoch 96/100\n",
      "653/653 [==============================] - 0s 31us/sample - loss: 0.6328 - acc: 0.6891\n",
      "Epoch 97/100\n",
      "653/653 [==============================] - 0s 31us/sample - loss: 0.6320 - acc: 0.6891\n",
      "Epoch 98/100\n",
      "653/653 [==============================] - 0s 24us/sample - loss: 0.6316 - acc: 0.6861\n",
      "Epoch 99/100\n",
      "653/653 [==============================] - 0s 31us/sample - loss: 0.6314 - acc: 0.6876\n",
      "Epoch 100/100\n",
      "653/653 [==============================] - 0s 26us/sample - loss: 0.6313 - acc: 0.6907\n"
     ]
    }
   ],
   "source": [
    "history = model.fit(x, y, epochs=100)"
   ]
  },
  {
   "cell_type": "code",
   "execution_count": 16,
   "metadata": {},
   "outputs": [
    {
     "data": {
      "text/plain": [
       "dict_keys(['loss', 'acc'])"
      ]
     },
     "execution_count": 16,
     "metadata": {},
     "output_type": "execute_result"
    }
   ],
   "source": [
    "history.history.keys()"
   ]
  },
  {
   "cell_type": "code",
   "execution_count": 17,
   "metadata": {},
   "outputs": [
    {
     "data": {
      "text/plain": [
       "[<matplotlib.lines.Line2D at 0x260bca03588>]"
      ]
     },
     "execution_count": 17,
     "metadata": {},
     "output_type": "execute_result"
    },
    {
     "data": {
      "image/png": "[encoded data removed]",
      "text/plain": [
       "<Figure size 432x288 with 1 Axes>"
      ]
     },
     "metadata": {
      "needs_background": "light"
     },
     "output_type": "display_data"
    }
   ],
   "source": [
    "plt.plot(history.epoch, history.history.get('loss'))"
   ]
  },
  {
   "cell_type": "code",
   "execution_count": 18,
   "metadata": {},
   "outputs": [
    {
     "data": {
      "text/plain": [
       "[<matplotlib.lines.Line2D at 0x260bca569e8>]"
      ]
     },
     "execution_count": 18,
     "metadata": {},
     "output_type": "execute_result"
    },
    {
     "data": {
      "image/png": "[encoded data removed]",
      "text/plain": [
       "<Figure size 432x288 with 1 Axes>"
      ]
     },
     "metadata": {
      "needs_background": "light"
     },
     "output_type": "display_data"
    }
   ],
   "source": [
    "plt.plot(history.epoch, history.history.get('acc'))"
   ]
  },
  {
   "cell_type": "code",
   "execution_count": null,
   "metadata": {},
   "outputs": [],
   "source": []
  }
 ],
 "metadata": {
  "kernelspec": {
   "display_name": "Python 3",
   "language": "python",
   "name": "python3"
  },
  "language_info": {
   "codemirror_mode": {
    "name": "ipython",
    "version": 3
   },
   "file_extension": ".py",
   "mimetype": "text/x-python",
   "name": "python",
   "nbconvert_exporter": "python",
   "pygments_lexer": "ipython3",
   "version": "3.6.8"
  }
 },
 "nbformat": 4,
 "nbformat_minor": 2
}
