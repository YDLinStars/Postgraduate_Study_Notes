{
 "cells": [
  {
   "cell_type": "code",
   "execution_count": 1,
   "metadata": {},
   "outputs": [],
   "source": [
    "import tensorflow as tf\n",
    "from tensorflow import keras\n",
    "from tensorflow.keras import layers\n",
    "import numpy as np\n",
    "import pandas as pd"
   ]
  },
  {
   "cell_type": "code",
   "execution_count": 2,
   "metadata": {},
   "outputs": [],
   "source": [
    "data = pd.read_csv('./dataset/Tweets.csv')"
   ]
  },
  {
   "cell_type": "code",
   "execution_count": 3,
   "metadata": {},
   "outputs": [
    {
     "data": {
      "text/html": [
       "<div>\n",
       "<style scoped>\n",
       "    .dataframe tbody tr th:only-of-type {\n",
       "        vertical-align: middle;\n",
       "    }\n",
       "\n",
       "    .dataframe tbody tr th {\n",
       "        vertical-align: top;\n",
       "    }\n",
       "\n",
       "    .dataframe thead th {\n",
       "        text-align: right;\n",
       "    }\n",
       "</style>\n",
       "<table border=\"1\" class=\"dataframe\">\n",
       "  <thead>\n",
       "    <tr style=\"text-align: right;\">\n",
       "      <th></th>\n",
       "      <th>tweet_id</th>\n",
       "      <th>airline_sentiment</th>\n",
       "      <th>airline_sentiment_confidence</th>\n",
       "      <th>negativereason</th>\n",
       "      <th>negativereason_confidence</th>\n",
       "      <th>airline</th>\n",
       "      <th>airline_sentiment_gold</th>\n",
       "      <th>name</th>\n",
       "      <th>negativereason_gold</th>\n",
       "      <th>retweet_count</th>\n",
       "      <th>text</th>\n",
       "      <th>tweet_coord</th>\n",
       "      <th>tweet_created</th>\n",
       "      <th>tweet_location</th>\n",
       "      <th>user_timezone</th>\n",
       "    </tr>\n",
       "  </thead>\n",
       "  <tbody>\n",
       "    <tr>\n",
       "      <th>0</th>\n",
       "      <td>570306133677760513</td>\n",
       "      <td>neutral</td>\n",
       "      <td>1.0000</td>\n",
       "      <td>NaN</td>\n",
       "      <td>NaN</td>\n",
       "      <td>Virgin America</td>\n",
       "      <td>NaN</td>\n",
       "      <td>cairdin</td>\n",
       "      <td>NaN</td>\n",
       "      <td>0</td>\n",
       "      <td>@VirginAmerica What @dhepburn said.</td>\n",
       "      <td>NaN</td>\n",
       "      <td>2015-02-24 11:35:52 -0800</td>\n",
       "      <td>NaN</td>\n",
       "      <td>Eastern Time (US &amp; Canada)</td>\n",
       "    </tr>\n",
       "    <tr>\n",
       "      <th>1</th>\n",
       "      <td>570301130888122368</td>\n",
       "      <td>positive</td>\n",
       "      <td>0.3486</td>\n",
       "      <td>NaN</td>\n",
       "      <td>0.0000</td>\n",
       "      <td>Virgin America</td>\n",
       "      <td>NaN</td>\n",
       "      <td>jnardino</td>\n",
       "      <td>NaN</td>\n",
       "      <td>0</td>\n",
       "      <td>@VirginAmerica plus you've added commercials t...</td>\n",
       "      <td>NaN</td>\n",
       "      <td>2015-02-24 11:15:59 -0800</td>\n",
       "      <td>NaN</td>\n",
       "      <td>Pacific Time (US &amp; Canada)</td>\n",
       "    </tr>\n",
       "    <tr>\n",
       "      <th>2</th>\n",
       "      <td>570301083672813571</td>\n",
       "      <td>neutral</td>\n",
       "      <td>0.6837</td>\n",
       "      <td>NaN</td>\n",
       "      <td>NaN</td>\n",
       "      <td>Virgin America</td>\n",
       "      <td>NaN</td>\n",
       "      <td>yvonnalynn</td>\n",
       "      <td>NaN</td>\n",
       "      <td>0</td>\n",
       "      <td>@VirginAmerica I didn't today... Must mean I n...</td>\n",
       "      <td>NaN</td>\n",
       "      <td>2015-02-24 11:15:48 -0800</td>\n",
       "      <td>Lets Play</td>\n",
       "      <td>Central Time (US &amp; Canada)</td>\n",
       "    </tr>\n",
       "    <tr>\n",
       "      <th>3</th>\n",
       "      <td>570301031407624196</td>\n",
       "      <td>negative</td>\n",
       "      <td>1.0000</td>\n",
       "      <td>Bad Flight</td>\n",
       "      <td>0.7033</td>\n",
       "      <td>Virgin America</td>\n",
       "      <td>NaN</td>\n",
       "      <td>jnardino</td>\n",
       "      <td>NaN</td>\n",
       "      <td>0</td>\n",
       "      <td>@VirginAmerica it's really aggressive to blast...</td>\n",
       "      <td>NaN</td>\n",
       "      <td>2015-02-24 11:15:36 -0800</td>\n",
       "      <td>NaN</td>\n",
       "      <td>Pacific Time (US &amp; Canada)</td>\n",
       "    </tr>\n",
       "    <tr>\n",
       "      <th>4</th>\n",
       "      <td>570300817074462722</td>\n",
       "      <td>negative</td>\n",
       "      <td>1.0000</td>\n",
       "      <td>Can't Tell</td>\n",
       "      <td>1.0000</td>\n",
       "      <td>Virgin America</td>\n",
       "      <td>NaN</td>\n",
       "      <td>jnardino</td>\n",
       "      <td>NaN</td>\n",
       "      <td>0</td>\n",
       "      <td>@VirginAmerica and it's a really big bad thing...</td>\n",
       "      <td>NaN</td>\n",
       "      <td>2015-02-24 11:14:45 -0800</td>\n",
       "      <td>NaN</td>\n",
       "      <td>Pacific Time (US &amp; Canada)</td>\n",
       "    </tr>\n",
       "  </tbody>\n",
       "</table>\n",
       "</div>"
      ],
      "text/plain": [
       "             tweet_id airline_sentiment  airline_sentiment_confidence  \\\n",
       "0  570306133677760513           neutral                        1.0000   \n",
       "1  570301130888122368          positive                        0.3486   \n",
       "2  570301083672813571           neutral                        0.6837   \n",
       "3  570301031407624196          negative                        1.0000   \n",
       "4  570300817074462722          negative                        1.0000   \n",
       "\n",
       "  negativereason  negativereason_confidence         airline  \\\n",
       "0            NaN                        NaN  Virgin America   \n",
       "1            NaN                     0.0000  Virgin America   \n",
       "2            NaN                        NaN  Virgin America   \n",
       "3     Bad Flight                     0.7033  Virgin America   \n",
       "4     Can't Tell                     1.0000  Virgin America   \n",
       "\n",
       "  airline_sentiment_gold        name negativereason_gold  retweet_count  \\\n",
       "0                    NaN     cairdin                 NaN              0   \n",
       "1                    NaN    jnardino                 NaN              0   \n",
       "2                    NaN  yvonnalynn                 NaN              0   \n",
       "3                    NaN    jnardino                 NaN              0   \n",
       "4                    NaN    jnardino                 NaN              0   \n",
       "\n",
       "                                                text tweet_coord  \\\n",
       "0                @VirginAmerica What @dhepburn said.         NaN   \n",
       "1  @VirginAmerica plus you've added commercials t...         NaN   \n",
       "2  @VirginAmerica I didn't today... Must mean I n...         NaN   \n",
       "3  @VirginAmerica it's really aggressive to blast...         NaN   \n",
       "4  @VirginAmerica and it's a really big bad thing...         NaN   \n",
       "\n",
       "               tweet_created tweet_location               user_timezone  \n",
       "0  2015-02-24 11:35:52 -0800            NaN  Eastern Time (US & Canada)  \n",
       "1  2015-02-24 11:15:59 -0800            NaN  Pacific Time (US & Canada)  \n",
       "2  2015-02-24 11:15:48 -0800      Lets Play  Central Time (US & Canada)  \n",
       "3  2015-02-24 11:15:36 -0800            NaN  Pacific Time (US & Canada)  \n",
       "4  2015-02-24 11:14:45 -0800            NaN  Pacific Time (US & Canada)  "
      ]
     },
     "execution_count": 3,
     "metadata": {},
     "output_type": "execute_result"
    }
   ],
   "source": [
    "data.head()"
   ]
  },
  {
   "cell_type": "code",
   "execution_count": 4,
   "metadata": {},
   "outputs": [],
   "source": [
    "data = data[['airline_sentiment', 'text']]"
   ]
  },
  {
   "cell_type": "code",
   "execution_count": 5,
   "metadata": {},
   "outputs": [
    {
     "data": {
      "text/plain": [
       "array(['neutral', 'positive', 'negative'], dtype=object)"
      ]
     },
     "execution_count": 5,
     "metadata": {},
     "output_type": "execute_result"
    }
   ],
   "source": [
    "data.airline_sentiment.unique()"
   ]
  },
  {
   "cell_type": "code",
   "execution_count": 6,
   "metadata": {},
   "outputs": [
    {
     "data": {
      "text/plain": [
       "negative    9178\n",
       "neutral     3099\n",
       "positive    2363\n",
       "Name: airline_sentiment, dtype: int64"
      ]
     },
     "execution_count": 6,
     "metadata": {},
     "output_type": "execute_result"
    }
   ],
   "source": [
    "data.airline_sentiment.value_counts()"
   ]
  },
  {
   "cell_type": "code",
   "execution_count": 7,
   "metadata": {},
   "outputs": [],
   "source": [
    "data_p = data[data.airline_sentiment == 'positive']"
   ]
  },
  {
   "cell_type": "code",
   "execution_count": 8,
   "metadata": {},
   "outputs": [],
   "source": [
    "data_n = data[data.airline_sentiment == 'negative']"
   ]
  },
  {
   "cell_type": "code",
   "execution_count": 9,
   "metadata": {},
   "outputs": [],
   "source": [
    "data_n = data_n.iloc[:len(data_p)]"
   ]
  },
  {
   "cell_type": "code",
   "execution_count": 10,
   "metadata": {},
   "outputs": [
    {
     "data": {
      "text/plain": [
       "(2363, 2363)"
      ]
     },
     "execution_count": 10,
     "metadata": {},
     "output_type": "execute_result"
    }
   ],
   "source": [
    "len(data_n), len(data_p)"
   ]
  },
  {
   "cell_type": "code",
   "execution_count": 11,
   "metadata": {},
   "outputs": [],
   "source": [
    "data = pd.concat([data_n, data_p])"
   ]
  },
  {
   "cell_type": "code",
   "execution_count": 12,
   "metadata": {},
   "outputs": [],
   "source": [
    "data = data.sample(len(data))"
   ]
  },
  {
   "cell_type": "code",
   "execution_count": 13,
   "metadata": {},
   "outputs": [],
   "source": [
    "data['review'] = (data.airline_sentiment == 'positive').astype('int')"
   ]
  },
  {
   "cell_type": "code",
   "execution_count": 14,
   "metadata": {},
   "outputs": [],
   "source": [
    "del data['airline_sentiment']"
   ]
  },
  {
   "cell_type": "markdown",
   "metadata": {},
   "source": [
    "tf.keras.layers.Embedding  把文本向量化"
   ]
  },
  {
   "cell_type": "code",
   "execution_count": 15,
   "metadata": {},
   "outputs": [],
   "source": [
    "import re"
   ]
  },
  {
   "cell_type": "code",
   "execution_count": 16,
   "metadata": {},
   "outputs": [],
   "source": [
    "# 正则化式子\n",
    "token = re.compile('[A-Za-z]+|[!?,.()]')"
   ]
  },
  {
   "cell_type": "code",
   "execution_count": 17,
   "metadata": {},
   "outputs": [],
   "source": [
    "def reg_text(text):\n",
    "    new_text = token.findall(text)\n",
    "    new_text = [word.lower() for word in new_text]\n",
    "    return new_text"
   ]
  },
  {
   "cell_type": "code",
   "execution_count": 18,
   "metadata": {},
   "outputs": [],
   "source": [
    "data['text'] = data.text.apply(reg_text)"
   ]
  },
  {
   "cell_type": "code",
   "execution_count": 19,
   "metadata": {},
   "outputs": [],
   "source": [
    "word_set = set()\n",
    "for text in data.text:\n",
    "    for word in text:\n",
    "        word_set.add(word) "
   ]
  },
  {
   "cell_type": "code",
   "execution_count": 20,
   "metadata": {},
   "outputs": [
    {
     "data": {
      "text/plain": [
       "7101"
      ]
     },
     "execution_count": 20,
     "metadata": {},
     "output_type": "execute_result"
    }
   ],
   "source": [
    "# +1共有7101个单词\n",
    "max_word = len(word_set) + 1\n",
    "max_word"
   ]
  },
  {
   "cell_type": "code",
   "execution_count": 21,
   "metadata": {},
   "outputs": [],
   "source": [
    "word_list = list(word_set)"
   ]
  },
  {
   "cell_type": "code",
   "execution_count": 22,
   "metadata": {},
   "outputs": [
    {
     "data": {
      "text/plain": [
       "2349"
      ]
     },
     "execution_count": 22,
     "metadata": {},
     "output_type": "execute_result"
    }
   ],
   "source": [
    "word_list.index('spending')"
   ]
  },
  {
   "cell_type": "code",
   "execution_count": 23,
   "metadata": {},
   "outputs": [],
   "source": [
    "word_index =  dict((word, word_list.index(word) + 1) for word in word_list)"
   ]
  },
  {
   "cell_type": "code",
   "execution_count": 24,
   "metadata": {},
   "outputs": [
    {
     "data": {
      "text/plain": [
       "{'terribleservice': 1,\n",
       " 'so': 2,\n",
       " 'dewithpew': 3,\n",
       " 'hang': 4,\n",
       " 'mia': 5,\n",
       " 'strike': 6,\n",
       " 'sba': 7,\n",
       " 'yrs': 8,\n",
       " 'limits': 9,\n",
       " 'kindness': 10,\n",
       " 'diego': 11,\n",
       " 'nowhereland': 12,\n",
       " 'pofsxojsy': 13,\n",
       " 'happier': 14,\n",
       " 'trading': 15,\n",
       " 'nothing': 16,\n",
       " 'mortified': 17,\n",
       " 'dissatisfaction': 18,\n",
       " 'zrh': 19,\n",
       " 'jedediah': 20,\n",
       " 'shaquille': 21,\n",
       " 'lisa': 22,\n",
       " 'smallest': 23,\n",
       " 'southwestluv': 24,\n",
       " 'keepitmovin': 25,\n",
       " 'airborne': 26,\n",
       " 'danger': 27,\n",
       " 'vqtyza': 28,\n",
       " 'hurricane': 29,\n",
       " 'trvfncedl': 30,\n",
       " 'together': 31,\n",
       " 'year': 32,\n",
       " 'xxy': 33,\n",
       " 'toiletries': 34,\n",
       " 'thier': 35,\n",
       " 'experiencing': 36,\n",
       " 'freddie': 37,\n",
       " 'eliz': 38,\n",
       " 'something': 39,\n",
       " 'hour': 40,\n",
       " 'reading': 41,\n",
       " 'humor': 42,\n",
       " 'improper': 43,\n",
       " 'entertaining': 44,\n",
       " 'somewhat': 45,\n",
       " 'arrogant': 46,\n",
       " 'keambleam': 47,\n",
       " 'swaculture': 48,\n",
       " 'aweful': 49,\n",
       " 'unpredictable': 50,\n",
       " 'continue': 51,\n",
       " 'addressing': 52,\n",
       " 'mjkpgvxmpc': 53,\n",
       " 'cable': 54,\n",
       " 'frequent': 55,\n",
       " 'sincerely': 56,\n",
       " 'forgot': 57,\n",
       " 'dare': 58,\n",
       " 'awfulness': 59,\n",
       " 'ourguest': 60,\n",
       " 'many': 61,\n",
       " 'wth': 62,\n",
       " 'yr': 63,\n",
       " 'olavarria': 64,\n",
       " 'eco': 65,\n",
       " 'black': 66,\n",
       " 'fantastic': 67,\n",
       " 'counted': 68,\n",
       " 'induce': 69,\n",
       " 'cousins': 70,\n",
       " 'fixed': 71,\n",
       " 'maryjo': 72,\n",
       " 'downgraded': 73,\n",
       " 'inappropriately': 74,\n",
       " 'per': 75,\n",
       " 'irene': 76,\n",
       " 'legitimate': 77,\n",
       " 'wall': 78,\n",
       " 'boards': 79,\n",
       " 'nothappy': 80,\n",
       " 'timed': 81,\n",
       " 'looks': 82,\n",
       " 'ithica': 83,\n",
       " 'sbn': 84,\n",
       " 'joanna': 85,\n",
       " 'integrate': 86,\n",
       " 'airplane': 87,\n",
       " 'tlc': 88,\n",
       " 'lovesongfriday': 89,\n",
       " 'silly': 90,\n",
       " 'afraid': 91,\n",
       " 'familiar': 92,\n",
       " 'skycaps': 93,\n",
       " 'beautifull': 94,\n",
       " 'mark': 95,\n",
       " 'festivities': 96,\n",
       " 'hell': 97,\n",
       " 'collection': 98,\n",
       " 'tmadcle': 99,\n",
       " 'real': 100,\n",
       " 'partly': 101,\n",
       " 'savings': 102,\n",
       " 'notifying': 103,\n",
       " 'suprise': 104,\n",
       " 'transpired': 105,\n",
       " 'don': 106,\n",
       " 'cgwe': 107,\n",
       " 'anna': 108,\n",
       " 'also': 109,\n",
       " 'thus': 110,\n",
       " 'entered': 111,\n",
       " 'afternoon': 112,\n",
       " 'emb': 113,\n",
       " 'conversed': 114,\n",
       " 'accurate': 115,\n",
       " 'requirement': 116,\n",
       " 'aaron': 117,\n",
       " 'compensates': 118,\n",
       " 'quickly': 119,\n",
       " 'miserable': 120,\n",
       " 'robert': 121,\n",
       " 'site': 122,\n",
       " 'thought': 123,\n",
       " 'mike': 124,\n",
       " 'skywest': 125,\n",
       " 'supervisors': 126,\n",
       " 'hqez': 127,\n",
       " 'comment': 128,\n",
       " 'yeseniahernandez': 129,\n",
       " 'columbus': 130,\n",
       " 'reminds': 131,\n",
       " 'faceless': 132,\n",
       " 'yiwlhqhzgp': 133,\n",
       " 'visors': 134,\n",
       " 'sir': 135,\n",
       " 'paint': 136,\n",
       " 'tails': 137,\n",
       " 'avoided': 138,\n",
       " 'beautifully': 139,\n",
       " 'exiting': 140,\n",
       " 'welcome': 141,\n",
       " 'everything': 142,\n",
       " 'robthecameraman': 143,\n",
       " 'ath': 144,\n",
       " 'michele': 145,\n",
       " 'eta': 146,\n",
       " 'jose': 147,\n",
       " 'treats': 148,\n",
       " 'reputation': 149,\n",
       " 'katie': 150,\n",
       " 'desert': 151,\n",
       " 'vanished': 152,\n",
       " 'universalorl': 153,\n",
       " 'lednocdqee': 154,\n",
       " 'volunteers': 155,\n",
       " 'nope': 156,\n",
       " 'travellers': 157,\n",
       " 'fwa': 158,\n",
       " 'vallarta': 159,\n",
       " 'reset': 160,\n",
       " 'hime': 161,\n",
       " 'enough': 162,\n",
       " 'staff': 163,\n",
       " 'grk': 164,\n",
       " 'protected': 165,\n",
       " 'nearly': 166,\n",
       " 'bill': 167,\n",
       " 'sharing': 168,\n",
       " 'origin': 169,\n",
       " 'experiences': 170,\n",
       " 'eight': 171,\n",
       " 'zabsonre': 172,\n",
       " 'mikes': 173,\n",
       " 'zi': 174,\n",
       " 'smiles': 175,\n",
       " 'approach': 176,\n",
       " 'airbus': 177,\n",
       " 'arrive': 178,\n",
       " 'bouncer': 179,\n",
       " 'comped': 180,\n",
       " 'meh': 181,\n",
       " 'fingers': 182,\n",
       " 'eye': 183,\n",
       " 'costumer': 184,\n",
       " 'fantasy': 185,\n",
       " 'certainly': 186,\n",
       " 'potential': 187,\n",
       " 'anywhere': 188,\n",
       " 'dominick': 189,\n",
       " 'asset': 190,\n",
       " 'management': 191,\n",
       " 'properly': 192,\n",
       " 'overselling': 193,\n",
       " 'warning': 194,\n",
       " 'e': 195,\n",
       " 'decision': 196,\n",
       " 'apologize': 197,\n",
       " 'sxm': 198,\n",
       " 'worksnicely': 199,\n",
       " 'samantha': 200,\n",
       " 'refunding': 201,\n",
       " 'johnwayneair': 202,\n",
       " 'apparently': 203,\n",
       " 'spread': 204,\n",
       " 'cqmm': 205,\n",
       " 'czamkoff': 206,\n",
       " 'i': 207,\n",
       " 'walking': 208,\n",
       " 'prison': 209,\n",
       " 'transfers': 210,\n",
       " 'accuratetraveltimes': 211,\n",
       " 'continuous': 212,\n",
       " 'economic': 213,\n",
       " 'jjje': 214,\n",
       " 'gzb': 215,\n",
       " 'cb': 216,\n",
       " 'promised': 217,\n",
       " 'yours': 218,\n",
       " 'dts': 219,\n",
       " 'mysteriously': 220,\n",
       " 'musicians': 221,\n",
       " 'table': 222,\n",
       " 'enforce': 223,\n",
       " 'distress': 224,\n",
       " 'nuts': 225,\n",
       " 'cpap': 226,\n",
       " 'wakes': 227,\n",
       " 'obvious': 228,\n",
       " 'served': 229,\n",
       " 'lower': 230,\n",
       " 'pesky': 231,\n",
       " 'kate': 232,\n",
       " 'come': 233,\n",
       " 'policy': 234,\n",
       " 'australia': 235,\n",
       " 'thru': 236,\n",
       " 'mistakes': 237,\n",
       " 'safer': 238,\n",
       " 'southwestair': 239,\n",
       " 'bio': 240,\n",
       " 'mild': 241,\n",
       " 'separated': 242,\n",
       " 'paxex': 243,\n",
       " 'partnered': 244,\n",
       " 'xfinity': 245,\n",
       " 'fact': 246,\n",
       " 'peeps': 247,\n",
       " 'remorse': 248,\n",
       " 'consequence': 249,\n",
       " 'opening': 250,\n",
       " 'flightedflight': 251,\n",
       " 'golds': 252,\n",
       " 'takemeback': 253,\n",
       " 'ja': 254,\n",
       " 'notcool': 255,\n",
       " 'juan': 256,\n",
       " 'little': 257,\n",
       " 'buf': 258,\n",
       " 'retain': 259,\n",
       " 'rhkamx': 260,\n",
       " 'paytontaylor': 261,\n",
       " 'alynewton': 262,\n",
       " 'westagard': 263,\n",
       " 'loudly': 264,\n",
       " 'lft': 265,\n",
       " 'scqujbvsta': 266,\n",
       " 'hy': 267,\n",
       " 'becuz': 268,\n",
       " 'valentinesday': 269,\n",
       " 'misinformation': 270,\n",
       " 'request': 271,\n",
       " 'considerably': 272,\n",
       " 'assaulted': 273,\n",
       " 'fit': 274,\n",
       " 'sparkled': 275,\n",
       " 'flyerfriendly': 276,\n",
       " 'top': 277,\n",
       " 'scale': 278,\n",
       " 'smoothflight': 279,\n",
       " 'sell': 280,\n",
       " 'inspired': 281,\n",
       " 'showed': 282,\n",
       " 'gbiw': 283,\n",
       " 'transfer': 284,\n",
       " 'continues': 285,\n",
       " 'farecompare': 286,\n",
       " 'extremely': 287,\n",
       " 'dxux': 288,\n",
       " 'accrue': 289,\n",
       " 'nomorevirgin': 290,\n",
       " 'tire': 291,\n",
       " 'vftuyjh': 292,\n",
       " 'n': 293,\n",
       " 'inconvience': 294,\n",
       " 'replies': 295,\n",
       " 'shenanigans': 296,\n",
       " 'fairbanks': 297,\n",
       " 'conveniently': 298,\n",
       " 'fly': 299,\n",
       " 'goodcustomerservice': 300,\n",
       " 'allow': 301,\n",
       " 'read': 302,\n",
       " 'howisthatpossible': 303,\n",
       " 'adam': 304,\n",
       " 'lrfo': 305,\n",
       " 'kindly': 306,\n",
       " 'flyingwithus': 307,\n",
       " 'delta': 308,\n",
       " 'solo': 309,\n",
       " 'princess': 310,\n",
       " 'hr': 311,\n",
       " 'qf': 312,\n",
       " 'remember': 313,\n",
       " 'gopatriots': 314,\n",
       " 'replying': 315,\n",
       " 'bluetiful': 316,\n",
       " 'market': 317,\n",
       " 'unsafe': 318,\n",
       " 'ukdjjijrow': 319,\n",
       " 'tfanxbh': 320,\n",
       " 'ccicanine': 321,\n",
       " 'suggest': 322,\n",
       " 'headphones': 323,\n",
       " 'letter': 324,\n",
       " 'relayed': 325,\n",
       " 'funds': 326,\n",
       " 'camera': 327,\n",
       " 'blocked': 328,\n",
       " 'moodlighting': 329,\n",
       " 'coshared': 330,\n",
       " 'cfyhkvb': 331,\n",
       " 'mobay': 332,\n",
       " 'screen': 333,\n",
       " 'literate': 334,\n",
       " 'cyprhe': 335,\n",
       " 'roads': 336,\n",
       " 'foot': 337,\n",
       " 'holiday': 338,\n",
       " 'ahold': 339,\n",
       " 'worstservice': 340,\n",
       " 'motherpollock': 341,\n",
       " 'qc': 342,\n",
       " 'staffed': 343,\n",
       " 'define': 344,\n",
       " 'xelbon': 345,\n",
       " 'gorgeous': 346,\n",
       " 'loads': 347,\n",
       " 'shoe': 348,\n",
       " 'logging': 349,\n",
       " 'gkgkzlawpr': 350,\n",
       " 'major': 351,\n",
       " 'trying': 352,\n",
       " 'wasappreciated': 353,\n",
       " 'reported': 354,\n",
       " 'chatted': 355,\n",
       " 'shift': 356,\n",
       " 'dramatically': 357,\n",
       " 'piela': 358,\n",
       " 'characterize': 359,\n",
       " 'fianc': 360,\n",
       " 'earn': 361,\n",
       " 'rdu': 362,\n",
       " 'gotcha': 363,\n",
       " 'confrontational': 364,\n",
       " 'advise': 365,\n",
       " 'weaktea': 366,\n",
       " 'method': 367,\n",
       " 'sprinting': 368,\n",
       " 'tbsjquw': 369,\n",
       " 'volkswagen': 370,\n",
       " 'cont': 371,\n",
       " 'insulting': 372,\n",
       " 'coupons': 373,\n",
       " 'barely': 374,\n",
       " 'def': 375,\n",
       " 'oardjjgrrd': 376,\n",
       " 'redsox': 377,\n",
       " 'mb': 378,\n",
       " 'though': 379,\n",
       " 'usd': 380,\n",
       " 'admiral': 381,\n",
       " 'wasn': 382,\n",
       " 'disputed': 383,\n",
       " 'scott': 384,\n",
       " 'after': 385,\n",
       " 'impress': 386,\n",
       " 'keepingit': 387,\n",
       " 'speedy': 388,\n",
       " 'senses': 389,\n",
       " 'ny': 390,\n",
       " 'shv': 391,\n",
       " 'human': 392,\n",
       " 'birder': 393,\n",
       " 'registration': 394,\n",
       " 'tour': 395,\n",
       " 'unitedairlinessucks': 396,\n",
       " 'roanoke': 397,\n",
       " 'exact': 398,\n",
       " 'technical': 399,\n",
       " 'medal': 400,\n",
       " 'entertainmnt': 401,\n",
       " 'flights': 402,\n",
       " 'usairways': 403,\n",
       " 'hardly': 404,\n",
       " 'yet': 405,\n",
       " 'wtfodds': 406,\n",
       " 'accepted': 407,\n",
       " 'lufthansa': 408,\n",
       " 'feb': 409,\n",
       " 'moon': 410,\n",
       " 'christinebpc': 411,\n",
       " 'nfl': 412,\n",
       " 'appease': 413,\n",
       " 'uncomfortable': 414,\n",
       " 'traveller': 415,\n",
       " 'aerojobmarket': 416,\n",
       " 'interior': 417,\n",
       " 'kerry': 418,\n",
       " 'jurassic': 419,\n",
       " 'routes': 420,\n",
       " 'usually': 421,\n",
       " 'fleek': 422,\n",
       " 'msg': 423,\n",
       " 'foreign': 424,\n",
       " 'crew': 425,\n",
       " 'onelove': 426,\n",
       " 'locations': 427,\n",
       " 'kf': 428,\n",
       " 'worthless': 429,\n",
       " 'engineer': 430,\n",
       " 'thanksunited': 431,\n",
       " 'iphone': 432,\n",
       " 'coffee': 433,\n",
       " 'organization': 434,\n",
       " 'irresponsible': 435,\n",
       " 'lacking': 436,\n",
       " 'peace': 437,\n",
       " 'owed': 438,\n",
       " 'moderate': 439,\n",
       " 'frequentflyer': 440,\n",
       " 'cheap': 441,\n",
       " 'fuck': 442,\n",
       " 'xhlc': 443,\n",
       " 'lesson': 444,\n",
       " 'partners': 445,\n",
       " 'tory': 446,\n",
       " 'huh': 447,\n",
       " 'fedup': 448,\n",
       " 'oktukjy': 449,\n",
       " 'john': 450,\n",
       " 'actively': 451,\n",
       " '(': 452,\n",
       " 'jokesonus': 453,\n",
       " 'victim': 454,\n",
       " 'overbooked': 455,\n",
       " 'oma': 456,\n",
       " 'inquired': 457,\n",
       " 'humour': 458,\n",
       " 'continentalairlines': 459,\n",
       " 'repeated': 460,\n",
       " 'superstars': 461,\n",
       " 'rudest': 462,\n",
       " 'another': 463,\n",
       " 'instructed': 464,\n",
       " 'flow': 465,\n",
       " 'yxe': 466,\n",
       " 'low': 467,\n",
       " 'harsh': 468,\n",
       " 'cancelled': 469,\n",
       " 'avail': 470,\n",
       " 'roam': 471,\n",
       " 'taylor': 472,\n",
       " 'norris': 473,\n",
       " 'scanned': 474,\n",
       " 'affects': 475,\n",
       " 'disruption': 476,\n",
       " 'personnel': 477,\n",
       " 'lying': 478,\n",
       " 'secured': 479,\n",
       " 'hanging': 480,\n",
       " 'qjzapkx': 481,\n",
       " 'shouldn': 482,\n",
       " 'skin': 483,\n",
       " 'slew': 484,\n",
       " 'falls': 485,\n",
       " 'bless': 486,\n",
       " 'film': 487,\n",
       " 'xkiy': 488,\n",
       " 'these': 489,\n",
       " 'd': 490,\n",
       " 'mdw': 491,\n",
       " 'unwind': 492,\n",
       " 'pm': 493,\n",
       " 'freakin': 494,\n",
       " 'time': 495,\n",
       " 'sigh': 496,\n",
       " 'overall': 497,\n",
       " 'divert': 498,\n",
       " 'gcwvfuopl': 499,\n",
       " 'listen': 500,\n",
       " 'rate': 501,\n",
       " 'free': 502,\n",
       " 'mrfbjtepef': 503,\n",
       " 'apologized': 504,\n",
       " 'invitational': 505,\n",
       " 'redwineisbetter': 506,\n",
       " 'america': 507,\n",
       " 'flew': 508,\n",
       " 'espinosa': 509,\n",
       " 'wed': 510,\n",
       " 'mentioning': 511,\n",
       " 'carry': 512,\n",
       " 'duecto': 513,\n",
       " 'below': 514,\n",
       " 'steered': 515,\n",
       " 'qdw': 516,\n",
       " 'films': 517,\n",
       " 'disappears': 518,\n",
       " 'jfk': 519,\n",
       " 'iyhi': 520,\n",
       " 'fun': 521,\n",
       " 'spent': 522,\n",
       " 'riedel': 523,\n",
       " 'anxiety': 524,\n",
       " 'mates': 525,\n",
       " 'nsusfsbpv': 526,\n",
       " 'transpacific': 527,\n",
       " 'lfw': 528,\n",
       " 'exicted': 529,\n",
       " 'face': 530,\n",
       " 'giant': 531,\n",
       " 'itsthelittlethings': 532,\n",
       " 'condition': 533,\n",
       " 'pia': 534,\n",
       " 'without': 535,\n",
       " 'cyd': 536,\n",
       " 'loyal': 537,\n",
       " 'likingyoulessandless': 538,\n",
       " 'donna': 539,\n",
       " 'conveyer': 540,\n",
       " 'donkey': 541,\n",
       " 'schedule': 542,\n",
       " 'accept': 543,\n",
       " 'kbkx': 544,\n",
       " 'contain': 545,\n",
       " 'alison': 546,\n",
       " 'pls': 547,\n",
       " 'ya': 548,\n",
       " 'alb': 549,\n",
       " 'using': 550,\n",
       " 'sardine': 551,\n",
       " 'cement': 552,\n",
       " 'az': 553,\n",
       " 'mechanics': 554,\n",
       " 'connects': 555,\n",
       " 'expensive': 556,\n",
       " 'salvaged': 557,\n",
       " 'andrewbiga': 558,\n",
       " 'restrm': 559,\n",
       " 'sav': 560,\n",
       " 'tryna': 561,\n",
       " 'cxp': 562,\n",
       " 'goodflight': 563,\n",
       " 'cabo': 564,\n",
       " 'trick': 565,\n",
       " 'hisc': 566,\n",
       " 'luvagent': 567,\n",
       " 'meetthefleet': 568,\n",
       " 'refunded': 569,\n",
       " 'lol': 570,\n",
       " 'hugely': 571,\n",
       " 'starbucks': 572,\n",
       " 'sytycd': 573,\n",
       " 'despise': 574,\n",
       " 'nwk': 575,\n",
       " 'anyone': 576,\n",
       " 'sheila': 577,\n",
       " 'advisory': 578,\n",
       " 'responsibility': 579,\n",
       " 'yvonne': 580,\n",
       " 'blatantly': 581,\n",
       " 'responsible': 582,\n",
       " 'attentiveness': 583,\n",
       " 'burley': 584,\n",
       " 'exclusively': 585,\n",
       " 'unitedairlinessux': 586,\n",
       " 'finally': 587,\n",
       " 'del': 588,\n",
       " 'dnx': 589,\n",
       " 'suit': 590,\n",
       " 'sock': 591,\n",
       " 'guys': 592,\n",
       " 'gaga': 593,\n",
       " 'selling': 594,\n",
       " 'friendlyteam': 595,\n",
       " 'fwiw': 596,\n",
       " 'explaining': 597,\n",
       " 'scl': 598,\n",
       " 'pqms': 599,\n",
       " 'hare': 600,\n",
       " 'lrw': 601,\n",
       " 'airnzusa': 602,\n",
       " 'forward': 603,\n",
       " 'said': 604,\n",
       " 'toilets': 605,\n",
       " 'spots': 606,\n",
       " 'sourhwest': 607,\n",
       " 'farelock': 608,\n",
       " 'ewj': 609,\n",
       " 'regains': 610,\n",
       " 'coupon': 611,\n",
       " 'threehourslate': 612,\n",
       " 'robertdwyer': 613,\n",
       " 'min': 614,\n",
       " 'amazingflightcrew': 615,\n",
       " 'assured': 616,\n",
       " 'spite': 617,\n",
       " 'race': 618,\n",
       " 'voucher': 619,\n",
       " 'hotelstonight': 620,\n",
       " 'gladly': 621,\n",
       " 'break': 622,\n",
       " 'confirmed': 623,\n",
       " 'defend': 624,\n",
       " 'foxnews': 625,\n",
       " 'threw': 626,\n",
       " 'representative': 627,\n",
       " 'ferrissalameh': 628,\n",
       " 'woke': 629,\n",
       " 'bin': 630,\n",
       " 'options': 631,\n",
       " 'coast': 632,\n",
       " 'chinese': 633,\n",
       " 'sn': 634,\n",
       " 'seg': 635,\n",
       " 'crashes': 636,\n",
       " 'refresh': 637,\n",
       " 'sooner': 638,\n",
       " 'tkx': 639,\n",
       " 'snowy': 640,\n",
       " 'daysofunitedfailures': 641,\n",
       " 'recourse': 642,\n",
       " 'global': 643,\n",
       " 'doing': 644,\n",
       " 'realize': 645,\n",
       " 'honeymoon': 646,\n",
       " 'tfjfmsha': 647,\n",
       " 'mojave': 648,\n",
       " 'pvphmtzc': 649,\n",
       " 'lavatory': 650,\n",
       " 'eyes': 651,\n",
       " 'negligent': 652,\n",
       " 'know': 653,\n",
       " 'makes': 654,\n",
       " 'bonnie': 655,\n",
       " 'dplq': 656,\n",
       " 'yeehaw': 657,\n",
       " 'truck': 658,\n",
       " 'jason': 659,\n",
       " 'noticed': 660,\n",
       " 'things': 661,\n",
       " 'zaoay': 662,\n",
       " 'words': 663,\n",
       " 'carrier': 664,\n",
       " 'inexcusable': 665,\n",
       " 'beverage': 666,\n",
       " 'waived': 667,\n",
       " 'lme': 668,\n",
       " 'refuel': 669,\n",
       " 'lhrdfw': 670,\n",
       " 'cbv': 671,\n",
       " 'laurieameacham': 672,\n",
       " 'ycflalxv': 673,\n",
       " 'oq': 674,\n",
       " 'nye': 675,\n",
       " 'lifeline': 676,\n",
       " 'wantmymoneyback': 677,\n",
       " 'advice': 678,\n",
       " 'orthodoc': 679,\n",
       " 'stated': 680,\n",
       " 'bmc': 681,\n",
       " 'guiltypleasures': 682,\n",
       " 'whatstatus': 683,\n",
       " 'gfc': 684,\n",
       " 'heyyyy': 685,\n",
       " 'terminal': 686,\n",
       " 'refreshes': 687,\n",
       " 'southwestluvsweeps': 688,\n",
       " 'aircanada': 689,\n",
       " 'investigated': 690,\n",
       " 'aiyc': 691,\n",
       " 'bizarre': 692,\n",
       " 'pr': 693,\n",
       " 'preboarding': 694,\n",
       " 'netneutrality': 695,\n",
       " 'uno': 696,\n",
       " 'lucycat': 697,\n",
       " 'vhp': 698,\n",
       " 'aa': 699,\n",
       " 'opinion': 700,\n",
       " 'nonsense': 701,\n",
       " 'consistency': 702,\n",
       " 'various': 703,\n",
       " 'push': 704,\n",
       " 'questions': 705,\n",
       " 'eastern': 706,\n",
       " 'waking': 707,\n",
       " 'channels': 708,\n",
       " 'auto': 709,\n",
       " 'fliers': 710,\n",
       " 'air': 711,\n",
       " 'mouse': 712,\n",
       " 'enoughisenough': 713,\n",
       " 'cookies': 714,\n",
       " 'peculiar': 715,\n",
       " 'hnl': 716,\n",
       " 'inconvenience': 717,\n",
       " 'personalized': 718,\n",
       " 'grow': 719,\n",
       " 'chn': 720,\n",
       " 'luvsw': 721,\n",
       " 'prevented': 722,\n",
       " 'hurry': 723,\n",
       " 'direct': 724,\n",
       " 'volume': 725,\n",
       " 'courteous': 726,\n",
       " 'led': 727,\n",
       " 'naelah': 728,\n",
       " 'hollow': 729,\n",
       " 'mt': 730,\n",
       " 'belongings': 731,\n",
       " 'portlandjetport': 732,\n",
       " 'sosmart': 733,\n",
       " 'kelly': 734,\n",
       " 'lucia': 735,\n",
       " 'zut': 736,\n",
       " 'thanku': 737,\n",
       " 'ticket': 738,\n",
       " 'americanisbetter': 739,\n",
       " 'localized': 740,\n",
       " 'terra': 741,\n",
       " 'fra': 742,\n",
       " 'national': 743,\n",
       " 'strategy': 744,\n",
       " 'scream': 745,\n",
       " 'and': 746,\n",
       " 'causing': 747,\n",
       " 'thanking': 748,\n",
       " 'incls': 749,\n",
       " 'myself': 750,\n",
       " 'logs': 751,\n",
       " 'blue': 752,\n",
       " 'sits': 753,\n",
       " 'omg': 754,\n",
       " 'doctors': 755,\n",
       " 'flightlations': 756,\n",
       " 'emaleesugano': 757,\n",
       " 'breakup': 758,\n",
       " 'jvdf': 759,\n",
       " 'jetway': 760,\n",
       " 'wont': 761,\n",
       " 'reasons': 762,\n",
       " 'smf': 763,\n",
       " 'pj': 764,\n",
       " 'existing': 765,\n",
       " 'gottogetbetter': 766,\n",
       " 'promising': 767,\n",
       " 'wasting': 768,\n",
       " 'unimpressed': 769,\n",
       " 'nah': 770,\n",
       " 'bh': 771,\n",
       " 'hut': 772,\n",
       " 'claudia': 773,\n",
       " 'cmh': 774,\n",
       " 'entitled': 775,\n",
       " 'missed': 776,\n",
       " 'seattle': 777,\n",
       " 'bobwesson': 778,\n",
       " 'jump': 779,\n",
       " 'lon': 780,\n",
       " 'international': 781,\n",
       " 'streetwise': 782,\n",
       " 'standbys': 783,\n",
       " 'sdylukr': 784,\n",
       " 'bait': 785,\n",
       " 'selfies': 786,\n",
       " 'adjacent': 787,\n",
       " 'inspiring': 788,\n",
       " 'spends': 789,\n",
       " 'main': 790,\n",
       " 'deserved': 791,\n",
       " 'sons': 792,\n",
       " 'an': 793,\n",
       " 'plain': 794,\n",
       " 'sheesh': 795,\n",
       " 'eyw': 796,\n",
       " 'bridesmaid': 797,\n",
       " 'abysmal': 798,\n",
       " 'passenger': 799,\n",
       " 'respects': 800,\n",
       " 'la': 801,\n",
       " 'xmas': 802,\n",
       " 'nf': 803,\n",
       " 'affiliate': 804,\n",
       " 'department': 805,\n",
       " 'they': 806,\n",
       " 'claiming': 807,\n",
       " 'tlpbaupik': 808,\n",
       " 'turrible': 809,\n",
       " 'wheel': 810,\n",
       " 'winter': 811,\n",
       " 'inbound': 812,\n",
       " 'atlantic': 813,\n",
       " 'besides': 814,\n",
       " 'see': 815,\n",
       " 'gave': 816,\n",
       " 'galley': 817,\n",
       " 'representatives': 818,\n",
       " 'ef': 819,\n",
       " 'learn': 820,\n",
       " 'satisfactory': 821,\n",
       " 'perceived': 822,\n",
       " 'illegal': 823,\n",
       " 'recruiter': 824,\n",
       " 'handlers': 825,\n",
       " 'turbulence': 826,\n",
       " 'pgashow': 827,\n",
       " 'dos': 828,\n",
       " 'fitz': 829,\n",
       " 'example': 830,\n",
       " 'aww': 831,\n",
       " 'kdhruf': 832,\n",
       " 'welcomed': 833,\n",
       " 'utah': 834,\n",
       " 'surprisingly': 835,\n",
       " 'tv': 836,\n",
       " 'interest': 837,\n",
       " 'thick': 838,\n",
       " 'state': 839,\n",
       " 'bevies': 840,\n",
       " 'precioustime': 841,\n",
       " 'ripoffs': 842,\n",
       " 'incubator': 843,\n",
       " 'seanmfmadden': 844,\n",
       " 'carpet': 845,\n",
       " 'vf': 846,\n",
       " '!': 847,\n",
       " 'cheer': 848,\n",
       " 'royal': 849,\n",
       " 'events': 850,\n",
       " 'robbogart': 851,\n",
       " 'cgjase': 852,\n",
       " 'condolences': 853,\n",
       " 'operated': 854,\n",
       " 'eventually': 855,\n",
       " 'serious': 856,\n",
       " 'killeen': 857,\n",
       " 'wet': 858,\n",
       " 'feelingtheluv': 859,\n",
       " 'refreshing': 860,\n",
       " 'cases': 861,\n",
       " 'movement': 862,\n",
       " 'hasn': 863,\n",
       " 'hung': 864,\n",
       " 'mci': 865,\n",
       " 'water': 866,\n",
       " 'field': 867,\n",
       " 'cheers': 868,\n",
       " 'understands': 869,\n",
       " 'unsmiling': 870,\n",
       " 'pending': 871,\n",
       " 'applepay': 872,\n",
       " 'myvxexperience': 873,\n",
       " 'locals': 874,\n",
       " 'lghpcdu': 875,\n",
       " 'relief': 876,\n",
       " 'stclass': 877,\n",
       " 'designated': 878,\n",
       " 'happytweet': 879,\n",
       " 'upinairclaire': 880,\n",
       " 'jobs': 881,\n",
       " 'decline': 882,\n",
       " 'announcements': 883,\n",
       " 'threat': 884,\n",
       " 'cleared': 885,\n",
       " 'stays': 886,\n",
       " 'boarded': 887,\n",
       " 'hotels': 888,\n",
       " 'ute': 889,\n",
       " 'premium': 890,\n",
       " 'labyrinth': 891,\n",
       " 'reimbursement': 892,\n",
       " 'imagine': 893,\n",
       " 'robotic': 894,\n",
       " 'covering': 895,\n",
       " 'usa': 896,\n",
       " 'gmail': 897,\n",
       " 'crucial': 898,\n",
       " 'moneynotspentonunited': 899,\n",
       " 'iadore': 900,\n",
       " 'aateam': 901,\n",
       " 'americanforlife': 902,\n",
       " 'active': 903,\n",
       " 'monday': 904,\n",
       " 'skiing': 905,\n",
       " 'raleigh': 906,\n",
       " 'veterans': 907,\n",
       " 'pasengers': 908,\n",
       " 'amaze': 909,\n",
       " 'bc': 910,\n",
       " 'monitoring': 911,\n",
       " 'today': 912,\n",
       " 'reimburse': 913,\n",
       " 'tiredandwanttogohome': 914,\n",
       " 'pays': 915,\n",
       " 'jcd': 916,\n",
       " 'wreck': 917,\n",
       " 'wong': 918,\n",
       " 'money': 919,\n",
       " 'jerk': 920,\n",
       " 'scramble': 921,\n",
       " 'magic': 922,\n",
       " 'mosaicmecrazy': 923,\n",
       " 'dm': 924,\n",
       " 'margo': 925,\n",
       " 'hand': 926,\n",
       " 'airfares': 927,\n",
       " 'broke': 928,\n",
       " 'connected': 929,\n",
       " 'lookforwardtoflywithaa': 930,\n",
       " 'notice': 931,\n",
       " 'history': 932,\n",
       " 'responses': 933,\n",
       " 'condescending': 934,\n",
       " 'overflight': 935,\n",
       " 'google': 936,\n",
       " 'carrying': 937,\n",
       " 'gf': 938,\n",
       " 'customerservicefail': 939,\n",
       " 'secure': 940,\n",
       " 'ohk': 941,\n",
       " 'bookable': 942,\n",
       " 'emerg': 943,\n",
       " 'duped': 944,\n",
       " 'resolution': 945,\n",
       " 'life': 946,\n",
       " 'waive': 947,\n",
       " 'fall': 948,\n",
       " 'purely': 949,\n",
       " 'finding': 950,\n",
       " 'taking': 951,\n",
       " 'keeping': 952,\n",
       " 'literally': 953,\n",
       " 'connectns': 954,\n",
       " 'school': 955,\n",
       " 'expire': 956,\n",
       " 'speeds': 957,\n",
       " 'bked': 958,\n",
       " 'rep': 959,\n",
       " 'aviv': 960,\n",
       " 'elbows': 961,\n",
       " 'oz': 962,\n",
       " 'slapintheface': 963,\n",
       " 'thx': 964,\n",
       " 'hands': 965,\n",
       " 'beer': 966,\n",
       " 'entertainment': 967,\n",
       " 'mech': 968,\n",
       " 'passes': 969,\n",
       " 'bjwgoap': 970,\n",
       " 'lga': 971,\n",
       " 'feeling': 972,\n",
       " 'accompaniments': 973,\n",
       " 'luv': 974,\n",
       " 'hahahahaha': 975,\n",
       " 'leaves': 976,\n",
       " 'checkin': 977,\n",
       " 'ue': 978,\n",
       " 'stellar': 979,\n",
       " 'switch': 980,\n",
       " 'passengers': 981,\n",
       " 'delacy': 982,\n",
       " 'mac': 983,\n",
       " 'vtqe': 984,\n",
       " 'reschedule': 985,\n",
       " 'smoooothest': 986,\n",
       " 'allegiantair': 987,\n",
       " 'liars': 988,\n",
       " 'prove': 989,\n",
       " 'kristy': 990,\n",
       " 'distances': 991,\n",
       " 'notifications': 992,\n",
       " 'beatstheothers': 993,\n",
       " 'repeat': 994,\n",
       " 'floors': 995,\n",
       " 'cantlogoutofunitedwifi': 996,\n",
       " 'att': 997,\n",
       " 'ubotmr': 998,\n",
       " 'kj': 999,\n",
       " 'understaffed': 1000,\n",
       " ...}"
      ]
     },
     "execution_count": 24,
     "metadata": {},
     "output_type": "execute_result"
    }
   ],
   "source": [
    "word_index"
   ]
  },
  {
   "cell_type": "code",
   "execution_count": 25,
   "metadata": {},
   "outputs": [],
   "source": [
    "# 没有单词返回为0 处理好的数据\n",
    "data_ok = data.text.apply(lambda x: [word_index.get(word, 0) for word in x])"
   ]
  },
  {
   "cell_type": "code",
   "execution_count": 26,
   "metadata": {},
   "outputs": [
    {
     "data": {
      "text/plain": [
       "16"
      ]
     },
     "execution_count": 26,
     "metadata": {},
     "output_type": "execute_result"
    }
   ],
   "source": [
    "# 每一条信息的长度不一\n",
    "len(data_ok.iloc[2])"
   ]
  },
  {
   "cell_type": "code",
   "execution_count": 27,
   "metadata": {},
   "outputs": [],
   "source": [
    "# 获取最长长度\n",
    "maxlen = max(len(x) for x in data_ok)"
   ]
  },
  {
   "cell_type": "code",
   "execution_count": 28,
   "metadata": {},
   "outputs": [
    {
     "data": {
      "text/plain": [
       "40"
      ]
     },
     "execution_count": 28,
     "metadata": {},
     "output_type": "execute_result"
    }
   ],
   "source": [
    "maxlen"
   ]
  },
  {
   "cell_type": "code",
   "execution_count": 29,
   "metadata": {},
   "outputs": [],
   "source": [
    "# keras提供的方法，填充\n",
    "data_ok = keras.preprocessing.sequence.pad_sequences(data_ok.values, maxlen=maxlen)"
   ]
  },
  {
   "cell_type": "code",
   "execution_count": 30,
   "metadata": {},
   "outputs": [
    {
     "data": {
      "text/plain": [
       "(4726, 40)"
      ]
     },
     "execution_count": 30,
     "metadata": {},
     "output_type": "execute_result"
    }
   ],
   "source": [
    "# 4726有一半是积极一半是消极\n",
    "data_ok.shape"
   ]
  },
  {
   "cell_type": "code",
   "execution_count": 31,
   "metadata": {},
   "outputs": [
    {
     "data": {
      "text/plain": [
       "array([1, 0, 0, ..., 0, 0, 0])"
      ]
     },
     "execution_count": 31,
     "metadata": {},
     "output_type": "execute_result"
    }
   ],
   "source": [
    "# 目标值\n",
    "data.review.values"
   ]
  },
  {
   "cell_type": "code",
   "execution_count": 32,
   "metadata": {},
   "outputs": [],
   "source": [
    "# 初始化model\n",
    "model = keras.Sequential()"
   ]
  },
  {
   "cell_type": "markdown",
   "metadata": {},
   "source": [
    "Embeding : 把文本映射为一个密集向量"
   ]
  },
  {
   "cell_type": "code",
   "execution_count": 33,
   "metadata": {},
   "outputs": [],
   "source": [
    "# Embeding : 把文本映射为一个密集向量 与 one hot 也是可以的\n",
    "# word最大个数，密集向量的长度，每一个评论的长度\n",
    "model.add(layers.Embedding(max_word, 50, input_length=maxlen))"
   ]
  },
  {
   "cell_type": "code",
   "execution_count": 34,
   "metadata": {},
   "outputs": [],
   "source": [
    "# 隐藏单元，64 尽可能先打\n",
    "model.add(layers.LSTM(64))"
   ]
  },
  {
   "cell_type": "code",
   "execution_count": 35,
   "metadata": {},
   "outputs": [],
   "source": [
    "# dense做最后的判断\n",
    "model.add(layers.Dense(1, activation='sigmoid'))"
   ]
  },
  {
   "cell_type": "code",
   "execution_count": 36,
   "metadata": {},
   "outputs": [
    {
     "name": "stdout",
     "output_type": "stream",
     "text": [
      "_________________________________________________________________\n",
      "Layer (type)                 Output Shape              Param #   \n",
      "=================================================================\n",
      "embedding (Embedding)        (None, 40, 50)            355050    \n",
      "_________________________________________________________________\n",
      "lstm (LSTM)                  (None, 64)                29440     \n",
      "_________________________________________________________________\n",
      "dense (Dense)                (None, 1)                 65        \n",
      "=================================================================\n",
      "Total params: 384,555\n",
      "Trainable params: 384,555\n",
      "Non-trainable params: 0\n",
      "_________________________________________________________________\n"
     ]
    }
   ],
   "source": [
    "model.summary()"
   ]
  },
  {
   "cell_type": "code",
   "execution_count": 37,
   "metadata": {},
   "outputs": [],
   "source": [
    "model.compile(optimizer='adam',\n",
    "              loss='binary_crossentropy',\n",
    "              metrics=['acc']\n",
    ")"
   ]
  },
  {
   "cell_type": "code",
   "execution_count": 38,
   "metadata": {},
   "outputs": [
    {
     "name": "stderr",
     "output_type": "stream",
     "text": [
      "c:\\users\\guanghua\\anaconda3\\envs\\tensor\\lib\\site-packages\\tensorflow\\python\\ops\\gradients_impl.py:112: UserWarning: Converting sparse IndexedSlices to a dense Tensor of unknown shape. This may consume a large amount of memory.\n",
      "  \"Converting sparse IndexedSlices to a dense Tensor of unknown shape. \"\n"
     ]
    },
    {
     "name": "stdout",
     "output_type": "stream",
     "text": [
      "Train on 3780 samples, validate on 946 samples\n",
      "Epoch 1/10\n",
      "3780/3780 [==============================] - 5s 1ms/step - loss: 0.6444 - acc: 0.6175 - val_loss: 0.5261 - val_acc: 0.7558\n",
      "Epoch 2/10\n",
      "3780/3780 [==============================] - 2s 634us/step - loss: 0.3917 - acc: 0.8280 - val_loss: 0.2234 - val_acc: 0.9154\n",
      "Epoch 3/10\n",
      "3780/3780 [==============================] - 2s 619us/step - loss: 0.1677 - acc: 0.9437 - val_loss: 0.2062 - val_acc: 0.9207\n",
      "Epoch 4/10\n",
      "3780/3780 [==============================] - 2s 618us/step - loss: 0.1070 - acc: 0.9661 - val_loss: 0.2118 - val_acc: 0.9292\n",
      "Epoch 5/10\n",
      "3780/3780 [==============================] - 2s 614us/step - loss: 0.0701 - acc: 0.9791 - val_loss: 0.2139 - val_acc: 0.9323\n",
      "Epoch 6/10\n",
      "3780/3780 [==============================] - 2s 614us/step - loss: 0.0416 - acc: 0.9899 - val_loss: 0.2848 - val_acc: 0.9249\n",
      "Epoch 7/10\n",
      "3780/3780 [==============================] - 2s 616us/step - loss: 0.0584 - acc: 0.9836 - val_loss: 0.3165 - val_acc: 0.9186\n",
      "Epoch 8/10\n",
      "3780/3780 [==============================] - 2s 610us/step - loss: 0.0336 - acc: 0.9918 - val_loss: 0.2829 - val_acc: 0.9218\n",
      "Epoch 9/10\n",
      "3780/3780 [==============================] - 2s 621us/step - loss: 0.0240 - acc: 0.9955 - val_loss: 0.2727 - val_acc: 0.9228\n",
      "Epoch 10/10\n",
      "3780/3780 [==============================] - 2s 618us/step - loss: 0.0186 - acc: 0.9950 - val_loss: 0.3322 - val_acc: 0.9249\n"
     ]
    }
   ],
   "source": [
    "# validation_split=0.2 就是说我们对数据进行切分 20% 作为测试数据\n",
    "history = model.fit(data_ok, data.review.values, epochs=10, batch_size=128, validation_split=0.2)"
   ]
  },
  {
   "cell_type": "code",
   "execution_count": 38,
   "metadata": {},
   "outputs": [],
   "source": [
    "import matplotlib.pyplot as plt\n",
    "%matplotlib inline"
   ]
  },
  {
   "cell_type": "code",
   "execution_count": 41,
   "metadata": {},
   "outputs": [
    {
     "data": {
      "text/plain": [
       "<matplotlib.legend.Legend at 0x297176c1208>"
      ]
     },
     "execution_count": 41,
     "metadata": {},
     "output_type": "execute_result"
    },
    {
     "data": {
      "image/png": "[encoded data removed]",
      "text/plain": [
       "<Figure size 432x288 with 1 Axes>"
      ]
     },
     "metadata": {
      "needs_background": "light"
     },
     "output_type": "display_data"
    }
   ],
   "source": [
    "plt.plot(history.epoch, history.history.get('val_acc'), c='r', label='val_acc')\n",
    "plt.plot(history.epoch, history.history.get('acc'), c='b', label='acc')\n",
    "plt.legend()"
   ]
  },
  {
   "cell_type": "code",
   "execution_count": 42,
   "metadata": {},
   "outputs": [
    {
     "data": {
      "text/plain": [
       "<matplotlib.legend.Legend at 0x2971775ca58>"
      ]
     },
     "execution_count": 42,
     "metadata": {},
     "output_type": "execute_result"
    },
    {
     "data": {
      "image/png": "[encoded data removed]",
      "text/plain": [
       "<Figure size 432x288 with 1 Axes>"
      ]
     },
     "metadata": {
      "needs_background": "light"
     },
     "output_type": "display_data"
    }
   ],
   "source": [
    "plt.plot(history.epoch, history.history.get('val_loss'), c='r', label='val_loss')\n",
    "plt.plot(history.epoch, history.history.get('loss'), c='b', label='loss')\n",
    "plt.legend()"
   ]
  },
  {
   "cell_type": "markdown",
   "metadata": {},
   "source": [
    "使用循环 dropout 抑制过拟合"
   ]
  },
  {
   "cell_type": "markdown",
   "metadata": {},
   "source": [
    "对每一个时间步使用相同的 dropout 掩码"
   ]
  },
  {
   "cell_type": "code",
   "execution_count": 63,
   "metadata": {},
   "outputs": [],
   "source": [
    "def train_model():\n",
    "    model = keras.Sequential()\n",
    "    model.add(layers.Embedding(max_word, 16, input_length=maxlen))\n",
    "    model.add(layers.LSTM(64,\n",
    "                         dropout=0.2,\n",
    "                         recurrent_dropout=0.5))\n",
    "    model.add(layers.Dropout(0.5))\n",
    "    model.add(layers.Dense(1, activation='sigmoid'))\n",
    "    model.compile(optimizer=keras.optimizers.RMSprop(),\n",
    "              loss='binary_crossentropy',\n",
    "              metrics=['acc'])\n",
    "    return model"
   ]
  },
  {
   "cell_type": "code",
   "execution_count": 64,
   "metadata": {},
   "outputs": [],
   "source": [
    "model2 = train_model()"
   ]
  },
  {
   "cell_type": "code",
   "execution_count": 65,
   "metadata": {},
   "outputs": [
    {
     "name": "stderr",
     "output_type": "stream",
     "text": [
      "c:\\users\\guanghua\\anaconda3\\envs\\tensor\\lib\\site-packages\\tensorflow\\python\\ops\\gradients_impl.py:112: UserWarning: Converting sparse IndexedSlices to a dense Tensor of unknown shape. This may consume a large amount of memory.\n",
      "  \"Converting sparse IndexedSlices to a dense Tensor of unknown shape. \"\n"
     ]
    },
    {
     "name": "stdout",
     "output_type": "stream",
     "text": [
      "Train on 3780 samples, validate on 946 samples\n",
      "Epoch 1/10\n",
      "3780/3780 [==============================] - 5s 1ms/step - loss: 0.6707 - acc: 0.6328 - val_loss: 0.6191 - val_acc: 0.7040\n",
      "Epoch 2/10\n",
      "3780/3780 [==============================] - 3s 745us/step - loss: 0.5590 - acc: 0.7270 - val_loss: 0.4686 - val_acc: 0.7770\n",
      "Epoch 3/10\n",
      "3780/3780 [==============================] - 3s 738us/step - loss: 0.4217 - acc: 0.8323 - val_loss: 0.3140 - val_acc: 0.8975\n",
      "Epoch 4/10\n",
      "3780/3780 [==============================] - 3s 735us/step - loss: 0.3101 - acc: 0.8931 - val_loss: 0.2416 - val_acc: 0.9154\n",
      "Epoch 5/10\n",
      "3780/3780 [==============================] - 3s 741us/step - loss: 0.2433 - acc: 0.9188 - val_loss: 0.2437 - val_acc: 0.8996\n",
      "Epoch 6/10\n",
      "3780/3780 [==============================] - 3s 749us/step - loss: 0.2028 - acc: 0.9354 - val_loss: 0.1999 - val_acc: 0.9165\n",
      "Epoch 7/10\n",
      "3780/3780 [==============================] - 3s 746us/step - loss: 0.1621 - acc: 0.9481 - val_loss: 0.1903 - val_acc: 0.9260\n",
      "Epoch 8/10\n",
      "3780/3780 [==============================] - 3s 750us/step - loss: 0.1568 - acc: 0.9471 - val_loss: 0.2043 - val_acc: 0.9281\n",
      "Epoch 9/10\n",
      "3780/3780 [==============================] - 3s 758us/step - loss: 0.1318 - acc: 0.9608 - val_loss: 0.1826 - val_acc: 0.9292\n",
      "Epoch 10/10\n",
      "3780/3780 [==============================] - 3s 747us/step - loss: 0.1214 - acc: 0.9619 - val_loss: 0.1945 - val_acc: 0.9292\n"
     ]
    }
   ],
   "source": [
    "history = model2.fit(data_ok, data.review.values, epochs=10, batch_size=128, validation_split=0.2)"
   ]
  },
  {
   "cell_type": "code",
   "execution_count": 66,
   "metadata": {},
   "outputs": [
    {
     "data": {
      "text/plain": [
       "<matplotlib.legend.Legend at 0x29fc59ba9b0>"
      ]
     },
     "execution_count": 66,
     "metadata": {},
     "output_type": "execute_result"
    },
    {
     "data": {
      "image/png": "[encoded data removed]",
      "text/plain": [
       "<Figure size 432x288 with 1 Axes>"
      ]
     },
     "metadata": {
      "needs_background": "light"
     },
     "output_type": "display_data"
    }
   ],
   "source": [
    "plt.plot(history.epoch, history.history.get('val_acc'), c='r', label='val_acc')\n",
    "plt.plot(history.epoch, history.history.get('acc'), c='b', label='acc')\n",
    "plt.legend()"
   ]
  },
  {
   "cell_type": "code",
   "execution_count": 67,
   "metadata": {},
   "outputs": [
    {
     "data": {
      "text/plain": [
       "<matplotlib.legend.Legend at 0x29fc79c5550>"
      ]
     },
     "execution_count": 67,
     "metadata": {},
     "output_type": "execute_result"
    },
    {
     "data": {
      "image/png": "[encoded data removed]",
      "text/plain": [
       "<Figure size 432x288 with 1 Axes>"
      ]
     },
     "metadata": {
      "needs_background": "light"
     },
     "output_type": "display_data"
    }
   ],
   "source": [
    "plt.plot(history.epoch, history.history.get('val_loss'), c='r', label='val_loss')\n",
    "plt.plot(history.epoch, history.history.get('loss'), c='b', label='loss')\n",
    "plt.legend()"
   ]
  },
  {
   "cell_type": "markdown",
   "metadata": {},
   "source": [
    "# 使用双向 RNN"
   ]
  },
  {
   "cell_type": "code",
   "execution_count": 78,
   "metadata": {},
   "outputs": [],
   "source": [
    "def train_model():\n",
    "    model = keras.Sequential()\n",
    "    model.add(layers.Embedding(max_word, 16, input_length=maxlen))\n",
    "    model.add(layers.Bidirectional(layers.LSTM(64,\n",
    "                         dropout=0.2,\n",
    "                         recurrent_dropout=0.5)))\n",
    "    model.add(layers.Dropout(0.5))\n",
    "    model.add(layers.Dense(1, activation='sigmoid'))\n",
    "    model.compile(optimizer=keras.optimizers.RMSprop(),\n",
    "              loss='binary_crossentropy',\n",
    "              metrics=['acc'])\n",
    "    return model"
   ]
  },
  {
   "cell_type": "code",
   "execution_count": 79,
   "metadata": {},
   "outputs": [],
   "source": [
    "model3 = train_model()"
   ]
  },
  {
   "cell_type": "code",
   "execution_count": 80,
   "metadata": {},
   "outputs": [],
   "source": [
    "# 调节学习率，监控val_ loss,每3三个batch下降速率不变时候，\n",
    "# 学习率下降0.3，最小学习速率为min Ir\n",
    "learning_rate_reduction = keras.callbacks.ReduceLROnPlateau(monitor='val_loss', patience=3, factor=0.3, min_lr=0.00001)"
   ]
  },
  {
   "cell_type": "code",
   "execution_count": 81,
   "metadata": {},
   "outputs": [
    {
     "name": "stdout",
     "output_type": "stream",
     "text": [
      "Train on 3780 samples, validate on 946 samples\n",
      "Epoch 1/30\n",
      "3780/3780 [==============================] - 9s 2ms/step - loss: 0.6723 - acc: 0.6241 - val_loss: 0.6143 - val_acc: 0.6998\n",
      "Epoch 2/30\n",
      "3780/3780 [==============================] - 4s 1ms/step - loss: 0.4755 - acc: 0.7907 - val_loss: 0.3641 - val_acc: 0.8340\n",
      "Epoch 3/30\n",
      "3780/3780 [==============================] - 5s 1ms/step - loss: 0.3558 - acc: 0.8571 - val_loss: 0.2826 - val_acc: 0.8795\n",
      "Epoch 4/30\n",
      "3780/3780 [==============================] - 5s 1ms/step - loss: 0.2713 - acc: 0.9026 - val_loss: 0.3160 - val_acc: 0.8742\n",
      "Epoch 5/30\n",
      "3780/3780 [==============================] - 5s 1ms/step - loss: 0.2132 - acc: 0.9204 - val_loss: 0.2819 - val_acc: 0.8943\n",
      "Epoch 6/30\n",
      "3780/3780 [==============================] - 6s 2ms/step - loss: 0.1874 - acc: 0.9352 - val_loss: 0.2496 - val_acc: 0.9080\n",
      "Epoch 7/30\n",
      "3780/3780 [==============================] - 8s 2ms/step - loss: 0.1731 - acc: 0.9426 - val_loss: 0.2343 - val_acc: 0.9091\n",
      "Epoch 8/30\n",
      "3780/3780 [==============================] - 10s 3ms/step - loss: 0.1432 - acc: 0.9497 - val_loss: 0.2471 - val_acc: 0.9154\n",
      "Epoch 9/30\n",
      "3780/3780 [==============================] - 9s 2ms/step - loss: 0.1274 - acc: 0.9577 - val_loss: 0.2578 - val_acc: 0.9186\n",
      "Epoch 10/30\n",
      "3780/3780 [==============================] - 5s 1ms/step - loss: 0.1074 - acc: 0.9677 - val_loss: 0.2756 - val_acc: 0.9154\n",
      "Epoch 11/30\n",
      "3780/3780 [==============================] - 4s 1ms/step - loss: 0.0903 - acc: 0.9698 - val_loss: 0.2755 - val_acc: 0.9101\n",
      "Epoch 12/30\n",
      "3780/3780 [==============================] - 4s 1ms/step - loss: 0.0816 - acc: 0.9717 - val_loss: 0.2665 - val_acc: 0.9144\n",
      "Epoch 13/30\n",
      "3780/3780 [==============================] - 5s 1ms/step - loss: 0.0787 - acc: 0.9749 - val_loss: 0.2768 - val_acc: 0.9101\n",
      "Epoch 14/30\n",
      "3780/3780 [==============================] - 5s 1ms/step - loss: 0.0803 - acc: 0.9728 - val_loss: 0.2820 - val_acc: 0.9123\n",
      "Epoch 15/30\n",
      "3780/3780 [==============================] - 6s 2ms/step - loss: 0.0746 - acc: 0.9778 - val_loss: 0.2832 - val_acc: 0.9133\n",
      "Epoch 16/30\n",
      "3780/3780 [==============================] - 8s 2ms/step - loss: 0.0801 - acc: 0.9767 - val_loss: 0.2823 - val_acc: 0.9133\n",
      "Epoch 17/30\n",
      "3780/3780 [==============================] - 9s 2ms/step - loss: 0.0718 - acc: 0.9767 - val_loss: 0.2830 - val_acc: 0.9144\n",
      "Epoch 18/30\n",
      "3780/3780 [==============================] - 8s 2ms/step - loss: 0.0701 - acc: 0.9794 - val_loss: 0.2830 - val_acc: 0.9165\n",
      "Epoch 19/30\n",
      "3780/3780 [==============================] - 4s 1ms/step - loss: 0.0789 - acc: 0.9743 - val_loss: 0.2831 - val_acc: 0.9165\n",
      "Epoch 20/30\n",
      "3780/3780 [==============================] - 4s 1ms/step - loss: 0.0720 - acc: 0.9770 - val_loss: 0.2827 - val_acc: 0.9165\n",
      "Epoch 21/30\n",
      "3780/3780 [==============================] - 4s 1ms/step - loss: 0.0733 - acc: 0.9778 - val_loss: 0.2826 - val_acc: 0.9165\n",
      "Epoch 22/30\n",
      "3780/3780 [==============================] - 5s 1ms/step - loss: 0.0777 - acc: 0.9754 - val_loss: 0.2827 - val_acc: 0.9175\n",
      "Epoch 23/30\n",
      "3780/3780 [==============================] - 5s 1ms/step - loss: 0.0719 - acc: 0.9767 - val_loss: 0.2835 - val_acc: 0.9165\n",
      "Epoch 24/30\n",
      "3780/3780 [==============================] - 6s 2ms/step - loss: 0.0653 - acc: 0.9812 - val_loss: 0.2833 - val_acc: 0.9165\n",
      "Epoch 25/30\n",
      "3780/3780 [==============================] - 7s 2ms/step - loss: 0.0728 - acc: 0.9728 - val_loss: 0.2836 - val_acc: 0.9165\n",
      "Epoch 26/30\n",
      "3780/3780 [==============================] - 10s 3ms/step - loss: 0.0718 - acc: 0.9780 - val_loss: 0.2837 - val_acc: 0.9165\n",
      "Epoch 27/30\n",
      "3780/3780 [==============================] - 9s 2ms/step - loss: 0.0678 - acc: 0.9780 - val_loss: 0.2845 - val_acc: 0.9165\n",
      "Epoch 28/30\n",
      "3780/3780 [==============================] - 5s 1ms/step - loss: 0.0706 - acc: 0.9775 - val_loss: 0.2854 - val_acc: 0.9165\n",
      "Epoch 29/30\n",
      "3780/3780 [==============================] - 4s 1ms/step - loss: 0.0710 - acc: 0.9775 - val_loss: 0.2860 - val_acc: 0.9175\n",
      "Epoch 30/30\n",
      "3780/3780 [==============================] - 4s 1ms/step - loss: 0.0737 - acc: 0.9772 - val_loss: 0.2864 - val_acc: 0.9165\n"
     ]
    }
   ],
   "source": [
    "history = model3.fit(data_ok, \n",
    "                     data.review.values, \n",
    "                     epochs=30, \n",
    "                     batch_size=128, \n",
    "                     validation_split=0.2,\n",
    "                     callbacks=[learning_rate_reduction])"
   ]
  },
  {
   "cell_type": "code",
   "execution_count": 82,
   "metadata": {},
   "outputs": [
    {
     "data": {
      "text/plain": [
       "<matplotlib.legend.Legend at 0x28acdbf0da0>"
      ]
     },
     "execution_count": 82,
     "metadata": {},
     "output_type": "execute_result"
    },
    {
     "data": {
      "image/png": "[encoded data removed]",
      "text/plain": [
       "<Figure size 432x288 with 1 Axes>"
      ]
     },
     "metadata": {
      "needs_background": "light"
     },
     "output_type": "display_data"
    }
   ],
   "source": [
    "plt.plot(history.epoch, history.history.get('val_acc'), c='r', label='val_acc')\n",
    "plt.plot(history.epoch, history.history.get('acc'), c='b', label='acc')\n",
    "plt.legend()"
   ]
  },
  {
   "cell_type": "code",
   "execution_count": 83,
   "metadata": {},
   "outputs": [
    {
     "data": {
      "text/plain": [
       "<matplotlib.legend.Legend at 0x28acdc5feb8>"
      ]
     },
     "execution_count": 83,
     "metadata": {},
     "output_type": "execute_result"
    },
    {
     "data": {
      "image/png": "[encoded data removed]",
      "text/plain": [
       "<Figure size 432x288 with 1 Axes>"
      ]
     },
     "metadata": {
      "needs_background": "light"
     },
     "output_type": "display_data"
    }
   ],
   "source": [
    "plt.plot(history.epoch, history.history.get('val_loss'), c='r', label='val_loss')\n",
    "plt.plot(history.epoch, history.history.get('loss'), c='b', label='loss')\n",
    "plt.legend()"
   ]
  },
  {
   "cell_type": "code",
   "execution_count": null,
   "metadata": {},
   "outputs": [],
   "source": []
  }
 ],
 "metadata": {
  "kernelspec": {
   "display_name": "Python 3",
   "language": "python",
   "name": "python3"
  },
  "language_info": {
   "codemirror_mode": {
    "name": "ipython",
    "version": 3
   },
   "file_extension": ".py",
   "mimetype": "text/x-python",
   "name": "python",
   "nbconvert_exporter": "python",
   "pygments_lexer": "ipython3",
   "version": "3.8.3"
  }
 },
 "nbformat": 4,
 "nbformat_minor": 2
}
