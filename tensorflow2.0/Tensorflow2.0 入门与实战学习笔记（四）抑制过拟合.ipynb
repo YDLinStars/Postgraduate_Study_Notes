{
 "cells": [
  {
   "cell_type": "code",
   "execution_count": 1,
   "metadata": {},
   "outputs": [],
   "source": [
    "import tensorflow as tf"
   ]
  },
  {
   "cell_type": "code",
   "execution_count": 2,
   "metadata": {},
   "outputs": [
    {
     "name": "stdout",
     "output_type": "stream",
     "text": [
      "Tensorflow version: 2.0.0-alpha0\n"
     ]
    }
   ],
   "source": [
    "print('Tensorflow version: {}'.format(tf.__version__))"
   ]
  },
  {
   "cell_type": "code",
   "execution_count": 3,
   "metadata": {},
   "outputs": [],
   "source": [
    "from tensorflow import keras\n",
    "import matplotlib.pyplot as plt\n",
    "%matplotlib inline"
   ]
  },
  {
   "cell_type": "code",
   "execution_count": 4,
   "metadata": {},
   "outputs": [],
   "source": [
    "fashion_mnist = keras.datasets.fashion_mnist\n",
    "\n",
    "(train_images, train_labels), (test_images, test_labels) = fashion_mnist.load_data()"
   ]
  },
  {
   "cell_type": "code",
   "execution_count": 5,
   "metadata": {},
   "outputs": [
    {
     "data": {
      "text/plain": [
       "(60000, 28, 28)"
      ]
     },
     "execution_count": 5,
     "metadata": {},
     "output_type": "execute_result"
    }
   ],
   "source": [
    "train_images.shape"
   ]
  },
  {
   "cell_type": "code",
   "execution_count": 6,
   "metadata": {},
   "outputs": [
    {
     "data": {
      "text/plain": [
       "(60000,)"
      ]
     },
     "execution_count": 6,
     "metadata": {},
     "output_type": "execute_result"
    }
   ],
   "source": [
    "train_labels.shape"
   ]
  },
  {
   "cell_type": "code",
   "execution_count": 7,
   "metadata": {},
   "outputs": [
    {
     "data": {
      "text/plain": [
       "(10000, 28, 28)"
      ]
     },
     "execution_count": 7,
     "metadata": {},
     "output_type": "execute_result"
    }
   ],
   "source": [
    "test_images.shape"
   ]
  },
  {
   "cell_type": "code",
   "execution_count": 8,
   "metadata": {},
   "outputs": [
    {
     "data": {
      "text/plain": [
       "array([9, 2, 1, ..., 8, 1, 5], dtype=uint8)"
      ]
     },
     "execution_count": 8,
     "metadata": {},
     "output_type": "execute_result"
    }
   ],
   "source": [
    "test_labels"
   ]
  },
  {
   "cell_type": "code",
   "execution_count": 9,
   "metadata": {},
   "outputs": [
    {
     "data": {
      "text/plain": [
       "<matplotlib.image.AxesImage at 0x2c02f9a3320>"
      ]
     },
     "execution_count": 9,
     "metadata": {},
     "output_type": "execute_result"
    },
    {
     "data": {
      "image/png": "[encoded data removed]",
      "text/plain": [
       "<Figure size 432x288 with 1 Axes>"
      ]
     },
     "metadata": {
      "needs_background": "light"
     },
     "output_type": "display_data"
    }
   ],
   "source": [
    "plt.imshow(train_images[0])"
   ]
  },
  {
   "cell_type": "code",
   "execution_count": 10,
   "metadata": {},
   "outputs": [],
   "source": [
    "class_names = ['T-shirt/top', 'Trouser', 'Pullover', 'Dress', 'Coat',\n",
    "               'Sandal', 'Shirt', 'Sneaker', 'Bag', 'Ankle boot']"
   ]
  },
  {
   "cell_type": "code",
   "execution_count": 11,
   "metadata": {},
   "outputs": [],
   "source": [
    "train_images = train_images / 255.0\n",
    "\n",
    "test_images = test_images / 255.0"
   ]
  },
  {
   "cell_type": "code",
   "execution_count": 13,
   "metadata": {},
   "outputs": [],
   "source": [
    "model = keras.Sequential([\n",
    "    keras.layers.Flatten(input_shape=(28, 28)),\n",
    "    keras.layers.Dense(128, activation='relu'),\n",
    "    keras.layers.Dropout(0.5),\n",
    "    keras.layers.Dense(128, activation='relu'),\n",
    "    keras.layers.Dropout(0.5),\n",
    "    keras.layers.Dense(128, activation='relu'),\n",
    "    keras.layers.Dropout(0.5),\n",
    "    keras.layers.Dense(10, activation='softmax')\n",
    "])"
   ]
  },
  {
   "cell_type": "code",
   "execution_count": 14,
   "metadata": {},
   "outputs": [],
   "source": [
    "model.compile(optimizer='adam',\n",
    "              loss='sparse_categorical_crossentropy',\n",
    "              metrics=['accuracy'])"
   ]
  },
  {
   "cell_type": "code",
   "execution_count": 15,
   "metadata": {},
   "outputs": [
    {
     "name": "stdout",
     "output_type": "stream",
     "text": [
      "Train on 60000 samples, validate on 10000 samples\n",
      "Epoch 1/40\n",
      "60000/60000 [==============================] - 4s 64us/sample - loss: 0.8691 - accuracy: 0.6781 - val_loss: 0.5663 - val_accuracy: 0.7837\n",
      "Epoch 2/40\n",
      "60000/60000 [==============================] - 4s 59us/sample - loss: 0.6130 - accuracy: 0.7792 - val_loss: 0.4736 - val_accuracy: 0.8303\n",
      "Epoch 3/40\n",
      "60000/60000 [==============================] - 4s 59us/sample - loss: 0.5761 - accuracy: 0.7982 - val_loss: 0.4677 - val_accuracy: 0.8343\n",
      "Epoch 4/40\n",
      "60000/60000 [==============================] - 4s 59us/sample - loss: 0.5438 - accuracy: 0.8085 - val_loss: 0.4437 - val_accuracy: 0.8420\n",
      "Epoch 5/40\n",
      "60000/60000 [==============================] - 4s 59us/sample - loss: 0.5285 - accuracy: 0.8148 - val_loss: 0.4179 - val_accuracy: 0.8525\n",
      "Epoch 6/40\n",
      "60000/60000 [==============================] - 4s 59us/sample - loss: 0.5196 - accuracy: 0.8161 - val_loss: 0.4318 - val_accuracy: 0.8377\n",
      "Epoch 7/40\n",
      "60000/60000 [==============================] - 4s 59us/sample - loss: 0.5067 - accuracy: 0.8231 - val_loss: 0.4265 - val_accuracy: 0.8491\n",
      "Epoch 8/40\n",
      "60000/60000 [==============================] - 4s 59us/sample - loss: 0.4925 - accuracy: 0.8276 - val_loss: 0.4117 - val_accuracy: 0.8473\n",
      "Epoch 9/40\n",
      "60000/60000 [==============================] - 4s 59us/sample - loss: 0.4899 - accuracy: 0.8285 - val_loss: 0.4134 - val_accuracy: 0.8538\n",
      "Epoch 10/40\n",
      "60000/60000 [==============================] - 4s 59us/sample - loss: 0.4840 - accuracy: 0.8299 - val_loss: 0.4153 - val_accuracy: 0.8544\n",
      "Epoch 11/40\n",
      "60000/60000 [==============================] - 4s 59us/sample - loss: 0.4789 - accuracy: 0.8331 - val_loss: 0.4038 - val_accuracy: 0.8530\n",
      "Epoch 12/40\n",
      "60000/60000 [==============================] - 4s 59us/sample - loss: 0.4724 - accuracy: 0.8343 - val_loss: 0.3987 - val_accuracy: 0.8604\n",
      "Epoch 13/40\n",
      "60000/60000 [==============================] - 4s 59us/sample - loss: 0.4734 - accuracy: 0.8349 - val_loss: 0.4140 - val_accuracy: 0.8556\n",
      "Epoch 14/40\n",
      "60000/60000 [==============================] - 4s 59us/sample - loss: 0.4679 - accuracy: 0.8386 - val_loss: 0.4026 - val_accuracy: 0.8575\n",
      "Epoch 15/40\n",
      "60000/60000 [==============================] - 4s 59us/sample - loss: 0.4640 - accuracy: 0.8378 - val_loss: 0.3948 - val_accuracy: 0.8618\n",
      "Epoch 16/40\n",
      "60000/60000 [==============================] - 4s 60us/sample - loss: 0.4599 - accuracy: 0.8397 - val_loss: 0.3944 - val_accuracy: 0.8625\n",
      "Epoch 17/40\n",
      "60000/60000 [==============================] - 4s 59us/sample - loss: 0.4536 - accuracy: 0.8408 - val_loss: 0.3946 - val_accuracy: 0.8635\n",
      "Epoch 18/40\n",
      "60000/60000 [==============================] - 4s 60us/sample - loss: 0.4495 - accuracy: 0.8429 - val_loss: 0.3920 - val_accuracy: 0.8585\n",
      "Epoch 19/40\n",
      "60000/60000 [==============================] - 4s 60us/sample - loss: 0.4512 - accuracy: 0.8434 - val_loss: 0.3855 - val_accuracy: 0.8659\n",
      "Epoch 20/40\n",
      "60000/60000 [==============================] - 4s 60us/sample - loss: 0.4451 - accuracy: 0.8434 - val_loss: 0.3925 - val_accuracy: 0.8673\n",
      "Epoch 21/40\n",
      "60000/60000 [==============================] - 4s 60us/sample - loss: 0.4501 - accuracy: 0.8429 - val_loss: 0.3940 - val_accuracy: 0.8543\n",
      "Epoch 22/40\n",
      "60000/60000 [==============================] - 4s 61us/sample - loss: 0.4437 - accuracy: 0.8453 - val_loss: 0.3912 - val_accuracy: 0.8635\n",
      "Epoch 23/40\n",
      "60000/60000 [==============================] - 4s 61us/sample - loss: 0.4422 - accuracy: 0.8453 - val_loss: 0.3876 - val_accuracy: 0.8611\n",
      "Epoch 24/40\n",
      "60000/60000 [==============================] - 4s 62us/sample - loss: 0.4391 - accuracy: 0.8471 - val_loss: 0.3832 - val_accuracy: 0.8639\n",
      "Epoch 25/40\n",
      "60000/60000 [==============================] - 4s 62us/sample - loss: 0.4392 - accuracy: 0.8461 - val_loss: 0.3828 - val_accuracy: 0.8659\n",
      "Epoch 26/40\n",
      "60000/60000 [==============================] - 4s 61us/sample - loss: 0.4328 - accuracy: 0.8453 - val_loss: 0.3801 - val_accuracy: 0.8654\n",
      "Epoch 27/40\n",
      "60000/60000 [==============================] - 4s 63us/sample - loss: 0.4326 - accuracy: 0.8471 - val_loss: 0.3802 - val_accuracy: 0.8643\n",
      "Epoch 28/40\n",
      "60000/60000 [==============================] - 4s 65us/sample - loss: 0.4374 - accuracy: 0.8464 - val_loss: 0.3811 - val_accuracy: 0.8608\n",
      "Epoch 29/40\n",
      "60000/60000 [==============================] - 4s 63us/sample - loss: 0.4337 - accuracy: 0.8464 - val_loss: 0.3795 - val_accuracy: 0.8650\n",
      "Epoch 30/40\n",
      "60000/60000 [==============================] - 4s 63us/sample - loss: 0.4287 - accuracy: 0.8485 - val_loss: 0.3725 - val_accuracy: 0.8615\n",
      "Epoch 31/40\n",
      "60000/60000 [==============================] - 4s 64us/sample - loss: 0.4311 - accuracy: 0.8479 - val_loss: 0.3903 - val_accuracy: 0.8601\n",
      "Epoch 32/40\n",
      "60000/60000 [==============================] - 4s 65us/sample - loss: 0.4293 - accuracy: 0.8487 - val_loss: 0.3768 - val_accuracy: 0.8677\n",
      "Epoch 33/40\n",
      "60000/60000 [==============================] - 4s 65us/sample - loss: 0.4297 - accuracy: 0.8490 - val_loss: 0.3874 - val_accuracy: 0.8652\n",
      "Epoch 34/40\n",
      "60000/60000 [==============================] - 4s 65us/sample - loss: 0.4271 - accuracy: 0.8508 - val_loss: 0.3819 - val_accuracy: 0.8668\n",
      "Epoch 35/40\n",
      "60000/60000 [==============================] - 4s 65us/sample - loss: 0.4248 - accuracy: 0.8503 - val_loss: 0.3853 - val_accuracy: 0.8632\n",
      "Epoch 36/40\n",
      "60000/60000 [==============================] - 4s 70us/sample - loss: 0.4260 - accuracy: 0.8496 - val_loss: 0.3766 - val_accuracy: 0.8675\n",
      "Epoch 37/40\n",
      "60000/60000 [==============================] - 4s 68us/sample - loss: 0.4185 - accuracy: 0.8518 - val_loss: 0.3856 - val_accuracy: 0.8675\n",
      "Epoch 38/40\n",
      "60000/60000 [==============================] - 4s 69us/sample - loss: 0.4244 - accuracy: 0.8522 - val_loss: 0.3857 - val_accuracy: 0.8639\n",
      "Epoch 39/40\n",
      "60000/60000 [==============================] - 4s 68us/sample - loss: 0.4132 - accuracy: 0.8534 - val_loss: 0.3805 - val_accuracy: 0.8634\n",
      "Epoch 40/40\n",
      "60000/60000 [==============================] - 4s 69us/sample - loss: 0.4202 - accuracy: 0.8509 - val_loss: 0.3813 - val_accuracy: 0.8648\n"
     ]
    }
   ],
   "source": [
    "history = model.fit(train_images, \n",
    "                    train_labels, \n",
    "                    epochs=30, \n",
    "                    validation_data=(test_images, test_labels))"
   ]
  },
  {
   "cell_type": "code",
   "execution_count": 16,
   "metadata": {},
   "outputs": [
    {
     "name": "stdout",
     "output_type": "stream",
     "text": [
      "10000/10000 [==============================] - 0s 26us/sample - loss: 0.3813 - accuracy: 0.8648\n"
     ]
    }
   ],
   "source": [
    "test_loss, test_acc = model.evaluate(test_images, test_labels)"
   ]
  },
  {
   "cell_type": "code",
   "execution_count": 17,
   "metadata": {},
   "outputs": [
    {
     "data": {
      "text/plain": [
       "<matplotlib.legend.Legend at 0x2c04d54fe10>"
      ]
     },
     "execution_count": 17,
     "metadata": {},
     "output_type": "execute_result"
    },
    {
     "data": {
      "image/png": "[encoded data removed]",
      "text/plain": [
       "<Figure size 432x288 with 1 Axes>"
      ]
     },
     "metadata": {
      "needs_background": "light"
     },
     "output_type": "display_data"
    }
   ],
   "source": [
    "plt.plot(history.epoch, history.history['loss'], 'r', label='loss')\n",
    "plt.plot(history.epoch, history.history['val_loss'], 'b--', label='val_loss')\n",
    "plt.legend()"
   ]
  },
  {
   "cell_type": "code",
   "execution_count": 18,
   "metadata": {},
   "outputs": [
    {
     "data": {
      "text/plain": [
       "[<matplotlib.lines.Line2D at 0x2c04d6e0a90>]"
      ]
     },
     "execution_count": 18,
     "metadata": {},
     "output_type": "execute_result"
    },
    {
     "data": {
      "image/png": "[encoded data removed]",
      "text/plain": [
       "<Figure size 432x288 with 1 Axes>"
      ]
     },
     "metadata": {
      "needs_background": "light"
     },
     "output_type": "display_data"
    }
   ],
   "source": [
    "plt.plot(history.epoch, history.history['accuracy'], 'r')\n",
    "plt.plot(history.epoch, history.history['val_accuracy'], 'b--')"
   ]
  },
  {
   "cell_type": "code",
   "execution_count": 19,
   "metadata": {},
   "outputs": [],
   "source": [
    "model = keras.Sequential([\n",
    "    keras.layers.Flatten(input_shape=(28, 28)),\n",
    "    keras.layers.Dense(128, activation='relu'),\n",
    "    keras.layers.Dense(128, activation='relu'),\n",
    "    keras.layers.Dropout(0.5),\n",
    "    keras.layers.Dense(128, activation='relu'),\n",
    "    keras.layers.Dense(128, activation='relu'),\n",
    "    keras.layers.Dropout(0.5),\n",
    "    keras.layers.Dense(128, activation='relu'),\n",
    "    keras.layers.Dense(128, activation='relu'),\n",
    "    keras.layers.Dropout(0.5),\n",
    "    keras.layers.Dense(10, activation='softmax')\n",
    "])"
   ]
  },
  {
   "cell_type": "code",
   "execution_count": 20,
   "metadata": {},
   "outputs": [],
   "source": [
    "model.compile(optimizer='adam',\n",
    "              loss='sparse_categorical_crossentropy',\n",
    "              metrics=['accuracy'])"
   ]
  },
  {
   "cell_type": "code",
   "execution_count": 21,
   "metadata": {},
   "outputs": [
    {
     "name": "stdout",
     "output_type": "stream",
     "text": [
      "Train on 60000 samples, validate on 10000 samples\n",
      "Epoch 1/30\n",
      "60000/60000 [==============================] - 5s 76us/sample - loss: 0.7910 - accuracy: 0.7030 - val_loss: 0.5087 - val_accuracy: 0.8017\n",
      "Epoch 2/30\n",
      "60000/60000 [==============================] - 4s 70us/sample - loss: 0.5234 - accuracy: 0.8206 - val_loss: 0.4918 - val_accuracy: 0.8056\n",
      "Epoch 3/30\n",
      "60000/60000 [==============================] - 4s 70us/sample - loss: 0.4671 - accuracy: 0.8413 - val_loss: 0.4154 - val_accuracy: 0.8478\n",
      "Epoch 4/30\n",
      "60000/60000 [==============================] - 4s 70us/sample - loss: 0.4344 - accuracy: 0.8518 - val_loss: 0.4456 - val_accuracy: 0.8393\n",
      "Epoch 5/30\n",
      "60000/60000 [==============================] - 4s 70us/sample - loss: 0.4190 - accuracy: 0.8580 - val_loss: 0.4077 - val_accuracy: 0.8555\n",
      "Epoch 6/30\n",
      "60000/60000 [==============================] - 4s 71us/sample - loss: 0.3984 - accuracy: 0.8636 - val_loss: 0.4015 - val_accuracy: 0.8590\n",
      "Epoch 7/30\n",
      "60000/60000 [==============================] - 4s 71us/sample - loss: 0.3885 - accuracy: 0.8682 - val_loss: 0.3892 - val_accuracy: 0.8594\n",
      "Epoch 8/30\n",
      "60000/60000 [==============================] - 4s 70us/sample - loss: 0.3770 - accuracy: 0.8707 - val_loss: 0.3781 - val_accuracy: 0.8647\n",
      "Epoch 9/30\n",
      "60000/60000 [==============================] - 4s 70us/sample - loss: 0.3672 - accuracy: 0.8733 - val_loss: 0.3768 - val_accuracy: 0.8632\n",
      "Epoch 10/30\n",
      "60000/60000 [==============================] - 4s 70us/sample - loss: 0.3585 - accuracy: 0.8762 - val_loss: 0.3779 - val_accuracy: 0.8680\n",
      "Epoch 11/30\n",
      "60000/60000 [==============================] - 4s 71us/sample - loss: 0.3577 - accuracy: 0.8784 - val_loss: 0.3702 - val_accuracy: 0.8677\n",
      "Epoch 12/30\n",
      "60000/60000 [==============================] - 4s 73us/sample - loss: 0.3519 - accuracy: 0.8801 - val_loss: 0.3779 - val_accuracy: 0.8698\n",
      "Epoch 13/30\n",
      "60000/60000 [==============================] - 4s 73us/sample - loss: 0.3452 - accuracy: 0.8814 - val_loss: 0.3750 - val_accuracy: 0.8672\n",
      "Epoch 14/30\n",
      "60000/60000 [==============================] - 4s 73us/sample - loss: 0.3447 - accuracy: 0.8816 - val_loss: 0.3555 - val_accuracy: 0.8765\n",
      "Epoch 15/30\n",
      "60000/60000 [==============================] - 4s 73us/sample - loss: 0.3377 - accuracy: 0.8835 - val_loss: 0.3700 - val_accuracy: 0.8689\n",
      "Epoch 16/30\n",
      "60000/60000 [==============================] - 4s 75us/sample - loss: 0.3329 - accuracy: 0.8854 - val_loss: 0.3612 - val_accuracy: 0.8712\n",
      "Epoch 17/30\n",
      "60000/60000 [==============================] - 4s 73us/sample - loss: 0.3316 - accuracy: 0.8835 - val_loss: 0.3708 - val_accuracy: 0.8726\n",
      "Epoch 18/30\n",
      "60000/60000 [==============================] - 4s 74us/sample - loss: 0.3262 - accuracy: 0.8880 - val_loss: 0.3746 - val_accuracy: 0.8711\n",
      "Epoch 19/30\n",
      "60000/60000 [==============================] - 5s 75us/sample - loss: 0.3236 - accuracy: 0.8873 - val_loss: 0.3695 - val_accuracy: 0.8732\n",
      "Epoch 20/30\n",
      "60000/60000 [==============================] - 4s 74us/sample - loss: 0.3247 - accuracy: 0.8887 - val_loss: 0.3818 - val_accuracy: 0.8640\n",
      "Epoch 21/30\n",
      "60000/60000 [==============================] - 5s 76us/sample - loss: 0.3214 - accuracy: 0.8905 - val_loss: 0.3695 - val_accuracy: 0.8711\n",
      "Epoch 22/30\n",
      "60000/60000 [==============================] - 5s 76us/sample - loss: 0.3208 - accuracy: 0.8899 - val_loss: 0.4441 - val_accuracy: 0.8596\n",
      "Epoch 23/30\n",
      "60000/60000 [==============================] - 5s 77us/sample - loss: 0.3134 - accuracy: 0.8895 - val_loss: 0.3726 - val_accuracy: 0.8706\n",
      "Epoch 24/30\n",
      "60000/60000 [==============================] - 5s 79us/sample - loss: 0.3075 - accuracy: 0.8939 - val_loss: 0.3624 - val_accuracy: 0.8759\n",
      "Epoch 25/30\n",
      "60000/60000 [==============================] - 5s 79us/sample - loss: 0.3122 - accuracy: 0.8919 - val_loss: 0.3891 - val_accuracy: 0.8626\n",
      "Epoch 26/30\n",
      "60000/60000 [==============================] - 5s 77us/sample - loss: 0.3072 - accuracy: 0.8945 - val_loss: 0.3586 - val_accuracy: 0.8754\n",
      "Epoch 27/30\n",
      "60000/60000 [==============================] - 5s 80us/sample - loss: 0.3031 - accuracy: 0.8951 - val_loss: 0.3775 - val_accuracy: 0.8705\n",
      "Epoch 28/30\n",
      "60000/60000 [==============================] - 5s 78us/sample - loss: 0.2995 - accuracy: 0.8968 - val_loss: 0.3614 - val_accuracy: 0.8760\n",
      "Epoch 29/30\n",
      "60000/60000 [==============================] - 5s 80us/sample - loss: 0.3008 - accuracy: 0.8966 - val_loss: 0.3575 - val_accuracy: 0.8802\n",
      "Epoch 30/30\n",
      "60000/60000 [==============================] - 5s 79us/sample - loss: 0.2970 - accuracy: 0.8960 - val_loss: 0.4024 - val_accuracy: 0.8654\n"
     ]
    }
   ],
   "source": [
    "history = model.fit(train_images, \n",
    "                    train_labels, \n",
    "                    epochs=30, \n",
    "                    validation_data=(test_images, test_labels))"
   ]
  },
  {
   "cell_type": "code",
   "execution_count": 22,
   "metadata": {},
   "outputs": [
    {
     "name": "stdout",
     "output_type": "stream",
     "text": [
      "10000/10000 [==============================] - 0s 29us/sample - loss: 0.4024 - accuracy: 0.8654\n"
     ]
    }
   ],
   "source": [
    "test_loss, test_acc = model.evaluate(test_images, test_labels)"
   ]
  },
  {
   "cell_type": "code",
   "execution_count": 23,
   "metadata": {},
   "outputs": [
    {
     "data": {
      "text/plain": [
       "<matplotlib.legend.Legend at 0x2c04f4222b0>"
      ]
     },
     "execution_count": 23,
     "metadata": {},
     "output_type": "execute_result"
    },
    {
     "data": {
      "image/png": "[encoded data removed]",
      "text/plain": [
       "<Figure size 432x288 with 1 Axes>"
      ]
     },
     "metadata": {
      "needs_background": "light"
     },
     "output_type": "display_data"
    }
   ],
   "source": [
    "plt.plot(history.epoch, history.history['loss'], 'r', label='loss')\n",
    "plt.plot(history.epoch, history.history['val_loss'], 'b--', label='val_loss')\n",
    "plt.legend()"
   ]
  },
  {
   "cell_type": "code",
   "execution_count": 24,
   "metadata": {},
   "outputs": [
    {
     "data": {
      "text/plain": [
       "[<matplotlib.lines.Line2D at 0x2c0504629b0>]"
      ]
     },
     "execution_count": 24,
     "metadata": {},
     "output_type": "execute_result"
    },
    {
     "data": {
      "image/png": "[encoded data removed]",
      "text/plain": [
       "<Figure size 432x288 with 1 Axes>"
      ]
     },
     "metadata": {
      "needs_background": "light"
     },
     "output_type": "display_data"
    }
   ],
   "source": [
    "plt.plot(history.epoch, history.history['accuracy'], 'r')\n",
    "plt.plot(history.epoch, history.history['val_accuracy'], 'b--')"
   ]
  },
  {
   "cell_type": "code",
   "execution_count": null,
   "metadata": {},
   "outputs": [],
   "source": []
  }
 ],
 "metadata": {
  "kernelspec": {
   "display_name": "Python 3",
   "language": "python",
   "name": "python3"
  },
  "language_info": {
   "codemirror_mode": {
    "name": "ipython",
    "version": 3
   },
   "file_extension": ".py",
   "mimetype": "text/x-python",
   "name": "python",
   "nbconvert_exporter": "python",
   "pygments_lexer": "ipython3",
   "version": "3.6.8"
  }
 },
 "nbformat": 4,
 "nbformat_minor": 2
}
