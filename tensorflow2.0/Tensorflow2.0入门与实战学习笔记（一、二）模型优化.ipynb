{
 "cells": [
  {
   "cell_type": "code",
   "execution_count": 1,
   "metadata": {},
   "outputs": [],
   "source": [
    "import tensorflow as tf"
   ]
  },
  {
   "cell_type": "code",
   "execution_count": 2,
   "metadata": {},
   "outputs": [
    {
     "name": "stdout",
     "output_type": "stream",
     "text": [
      "Tensorflow version: 2.0.0-alpha0\n"
     ]
    }
   ],
   "source": [
    "print('Tensorflow version: {}'.format(tf.__version__))"
   ]
  },
  {
   "cell_type": "code",
   "execution_count": 3,
   "metadata": {},
   "outputs": [],
   "source": [
    "from tensorflow import keras\n",
    "import matplotlib.pyplot as plt\n",
    "%matplotlib inline"
   ]
  },
  {
   "cell_type": "code",
   "execution_count": 4,
   "metadata": {},
   "outputs": [],
   "source": [
    "fashion_mnist = keras.datasets.fashion_mnist\n",
    "\n",
    "(train_images, train_labels), (test_images, test_labels) = fashion_mnist.load_data()"
   ]
  },
  {
   "cell_type": "code",
   "execution_count": 5,
   "metadata": {},
   "outputs": [
    {
     "data": {
      "text/plain": [
       "(60000, 28, 28)"
      ]
     },
     "execution_count": 5,
     "metadata": {},
     "output_type": "execute_result"
    }
   ],
   "source": [
    "train_images.shape"
   ]
  },
  {
   "cell_type": "code",
   "execution_count": 6,
   "metadata": {},
   "outputs": [
    {
     "data": {
      "text/plain": [
       "(60000,)"
      ]
     },
     "execution_count": 6,
     "metadata": {},
     "output_type": "execute_result"
    }
   ],
   "source": [
    "train_labels.shape"
   ]
  },
  {
   "cell_type": "code",
   "execution_count": 7,
   "metadata": {},
   "outputs": [
    {
     "data": {
      "text/plain": [
       "(10000, 28, 28)"
      ]
     },
     "execution_count": 7,
     "metadata": {},
     "output_type": "execute_result"
    }
   ],
   "source": [
    "test_images.shape"
   ]
  },
  {
   "cell_type": "code",
   "execution_count": 8,
   "metadata": {},
   "outputs": [
    {
     "data": {
      "text/plain": [
       "array([9, 2, 1, ..., 8, 1, 5], dtype=uint8)"
      ]
     },
     "execution_count": 8,
     "metadata": {},
     "output_type": "execute_result"
    }
   ],
   "source": [
    "test_labels"
   ]
  },
  {
   "cell_type": "code",
   "execution_count": 9,
   "metadata": {},
   "outputs": [
    {
     "data": {
      "text/plain": [
       "<matplotlib.image.AxesImage at 0x2ba430d2400>"
      ]
     },
     "execution_count": 9,
     "metadata": {},
     "output_type": "execute_result"
    },
    {
     "data": {
      "image/png": "[encoded data removed]",
      "text/plain": [
       "<Figure size 432x288 with 1 Axes>"
      ]
     },
     "metadata": {
      "needs_background": "light"
     },
     "output_type": "display_data"
    }
   ],
   "source": [
    "plt.imshow(train_images[0])"
   ]
  },
  {
   "cell_type": "code",
   "execution_count": 10,
   "metadata": {},
   "outputs": [],
   "source": [
    "class_names = ['T-shirt/top', 'Trouser', 'Pullover', 'Dress', 'Coat',\n",
    "               'Sandal', 'Shirt', 'Sneaker', 'Bag', 'Ankle boot']"
   ]
  },
  {
   "cell_type": "code",
   "execution_count": 11,
   "metadata": {},
   "outputs": [],
   "source": [
    "train_images = train_images / 255.0\n",
    "\n",
    "test_images = test_images / 255.0"
   ]
  },
  {
   "cell_type": "code",
   "execution_count": 25,
   "metadata": {},
   "outputs": [],
   "source": [
    "model = keras.Sequential([\n",
    "    keras.layers.Flatten(input_shape=(28, 28)),\n",
    "    keras.layers.Dense(128, activation='relu'),\n",
    "    keras.layers.Dense(128, activation='relu'),\n",
    "    keras.layers.Dense(128, activation='relu'),\n",
    "    keras.layers.Dense(10, activation='softmax')\n",
    "])"
   ]
  },
  {
   "cell_type": "code",
   "execution_count": 26,
   "metadata": {},
   "outputs": [],
   "source": [
    "model.compile(optimizer='adam',\n",
    "              loss='sparse_categorical_crossentropy',\n",
    "              metrics=['accuracy'])"
   ]
  },
  {
   "cell_type": "code",
   "execution_count": 27,
   "metadata": {},
   "outputs": [
    {
     "name": "stdout",
     "output_type": "stream",
     "text": [
      "Train on 60000 samples, validate on 10000 samples\n",
      "Epoch 1/20\n",
      "60000/60000 [==============================] - 3s 46us/sample - loss: 0.4864 - accuracy: 0.8245 - val_loss: 0.4590 - val_accuracy: 0.8335\n",
      "Epoch 2/20\n",
      "60000/60000 [==============================] - 3s 44us/sample - loss: 0.3672 - accuracy: 0.8636 - val_loss: 0.4221 - val_accuracy: 0.8442\n",
      "Epoch 3/20\n",
      "60000/60000 [==============================] - 3s 43us/sample - loss: 0.3354 - accuracy: 0.8759 - val_loss: 0.3738 - val_accuracy: 0.8599\n",
      "Epoch 4/20\n",
      "60000/60000 [==============================] - 3s 44us/sample - loss: 0.3073 - accuracy: 0.8860 - val_loss: 0.3675 - val_accuracy: 0.8686\n",
      "Epoch 5/20\n",
      "60000/60000 [==============================] - 3s 43us/sample - loss: 0.2906 - accuracy: 0.8915 - val_loss: 0.3438 - val_accuracy: 0.8763\n",
      "Epoch 6/20\n",
      "60000/60000 [==============================] - 3s 44us/sample - loss: 0.2775 - accuracy: 0.8959 - val_loss: 0.3541 - val_accuracy: 0.8751\n",
      "Epoch 7/20\n",
      "60000/60000 [==============================] - 3s 46us/sample - loss: 0.2645 - accuracy: 0.9001 - val_loss: 0.3365 - val_accuracy: 0.8802\n",
      "Epoch 8/20\n",
      "60000/60000 [==============================] - 3s 43us/sample - loss: 0.2548 - accuracy: 0.9037 - val_loss: 0.3227 - val_accuracy: 0.8861\n",
      "Epoch 9/20\n",
      "60000/60000 [==============================] - 3s 46us/sample - loss: 0.2441 - accuracy: 0.9067 - val_loss: 0.3552 - val_accuracy: 0.8792\n",
      "Epoch 10/20\n",
      "60000/60000 [==============================] - 3s 45us/sample - loss: 0.2361 - accuracy: 0.9105 - val_loss: 0.3350 - val_accuracy: 0.8844\n",
      "Epoch 11/20\n",
      "60000/60000 [==============================] - 3s 44us/sample - loss: 0.2269 - accuracy: 0.9131 - val_loss: 0.3375 - val_accuracy: 0.8819\n",
      "Epoch 12/20\n",
      "60000/60000 [==============================] - 3s 44us/sample - loss: 0.2209 - accuracy: 0.9160 - val_loss: 0.3730 - val_accuracy: 0.8748\n",
      "Epoch 13/20\n",
      "60000/60000 [==============================] - 3s 44us/sample - loss: 0.2117 - accuracy: 0.9179 - val_loss: 0.3480 - val_accuracy: 0.8823\n",
      "Epoch 14/20\n",
      "60000/60000 [==============================] - 3s 45us/sample - loss: 0.2078 - accuracy: 0.9195 - val_loss: 0.3454 - val_accuracy: 0.8854\n",
      "Epoch 15/20\n",
      "60000/60000 [==============================] - 3s 45us/sample - loss: 0.2020 - accuracy: 0.9219 - val_loss: 0.3516 - val_accuracy: 0.8886\n",
      "Epoch 16/20\n",
      "60000/60000 [==============================] - 3s 44us/sample - loss: 0.1956 - accuracy: 0.9244 - val_loss: 0.3291 - val_accuracy: 0.8910\n",
      "Epoch 17/20\n",
      "60000/60000 [==============================] - 3s 44us/sample - loss: 0.1894 - accuracy: 0.9256 - val_loss: 0.3475 - val_accuracy: 0.8887\n",
      "Epoch 18/20\n",
      "60000/60000 [==============================] - 3s 45us/sample - loss: 0.1854 - accuracy: 0.9287 - val_loss: 0.3728 - val_accuracy: 0.8842\n",
      "Epoch 19/20\n",
      "60000/60000 [==============================] - 3s 47us/sample - loss: 0.1818 - accuracy: 0.9312 - val_loss: 0.3727 - val_accuracy: 0.8875\n",
      "Epoch 20/20\n",
      "60000/60000 [==============================] - 3s 45us/sample - loss: 0.1759 - accuracy: 0.9321 - val_loss: 0.3980 - val_accuracy: 0.8883\n"
     ]
    }
   ],
   "source": [
    "history = model.fit(train_images, \n",
    "                    train_labels, \n",
    "                    epochs=20, \n",
    "                    validation_data=(test_images, test_labels))"
   ]
  },
  {
   "cell_type": "code",
   "execution_count": 28,
   "metadata": {},
   "outputs": [
    {
     "name": "stdout",
     "output_type": "stream",
     "text": [
      "10000/10000 [==============================] - 0s 22us/sample - loss: 0.3980 - accuracy: 0.8883\n"
     ]
    }
   ],
   "source": [
    "test_loss, test_acc = model.evaluate(test_images, test_labels)"
   ]
  },
  {
   "cell_type": "code",
   "execution_count": 29,
   "metadata": {},
   "outputs": [
    {
     "data": {
      "text/plain": [
       "<matplotlib.legend.Legend at 0x2ba3f624f60>"
      ]
     },
     "execution_count": 29,
     "metadata": {},
     "output_type": "execute_result"
    },
    {
     "data": {
      "image/png": "[encoded data removed]",
      "text/plain": [
       "<Figure size 432x288 with 1 Axes>"
      ]
     },
     "metadata": {
      "needs_background": "light"
     },
     "output_type": "display_data"
    }
   ],
   "source": [
    "plt.plot(history.epoch, history.history['loss'], 'r', label='loss')\n",
    "plt.plot(history.epoch, history.history['val_loss'], 'b--', label='val_loss')\n",
    "plt.legend()"
   ]
  },
  {
   "cell_type": "code",
   "execution_count": 32,
   "metadata": {},
   "outputs": [
    {
     "data": {
      "text/plain": [
       "[<matplotlib.lines.Line2D at 0x2ba3f8537b8>]"
      ]
     },
     "execution_count": 32,
     "metadata": {},
     "output_type": "execute_result"
    },
    {
     "data": {
      "image/png": "[encoded data removed]",
      "text/plain": [
       "<Figure size 432x288 with 1 Axes>"
      ]
     },
     "metadata": {
      "needs_background": "light"
     },
     "output_type": "display_data"
    }
   ],
   "source": [
    "plt.plot(history.epoch, history.history['accuracy'], 'r')\n",
    "plt.plot(history.epoch, history.history['val_accuracy'], 'b--')"
   ]
  },
  {
   "cell_type": "code",
   "execution_count": null,
   "metadata": {},
   "outputs": [],
   "source": []
  },
  {
   "cell_type": "code",
   "execution_count": null,
   "metadata": {},
   "outputs": [],
   "source": []
  }
 ],
 "metadata": {
  "kernelspec": {
   "display_name": "Python 3",
   "language": "python",
   "name": "python3"
  },
  "language_info": {
   "codemirror_mode": {
    "name": "ipython",
    "version": 3
   },
   "file_extension": ".py",
   "mimetype": "text/x-python",
   "name": "python",
   "nbconvert_exporter": "python",
   "pygments_lexer": "ipython3",
   "version": "3.6.8"
  }
 },
 "nbformat": 4,
 "nbformat_minor": 2
}
