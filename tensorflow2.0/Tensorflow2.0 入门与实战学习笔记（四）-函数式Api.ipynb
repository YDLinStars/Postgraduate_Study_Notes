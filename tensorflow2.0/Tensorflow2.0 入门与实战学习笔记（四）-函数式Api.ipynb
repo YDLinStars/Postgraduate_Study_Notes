{
 "cells": [
  {
   "cell_type": "code",
   "execution_count": 1,
   "metadata": {},
   "outputs": [],
   "source": [
    "import tensorflow as tf"
   ]
  },
  {
   "cell_type": "code",
   "execution_count": 2,
   "metadata": {},
   "outputs": [
    {
     "name": "stdout",
     "output_type": "stream",
     "text": [
      "Tensorflow version: 2.0.0-alpha0\n"
     ]
    }
   ],
   "source": [
    "print('Tensorflow version: {}'.format(tf.__version__))"
   ]
  },
  {
   "cell_type": "code",
   "execution_count": 3,
   "metadata": {},
   "outputs": [],
   "source": [
    "from tensorflow import keras\n",
    "import matplotlib.pyplot as plt\n",
    "%matplotlib inline"
   ]
  },
  {
   "cell_type": "code",
   "execution_count": 4,
   "metadata": {},
   "outputs": [],
   "source": [
    "fashion_mnist = keras.datasets.fashion_mnist\n",
    "\n",
    "(train_images, train_labels), (test_images, test_labels) = fashion_mnist.load_data()"
   ]
  },
  {
   "cell_type": "code",
   "execution_count": 5,
   "metadata": {},
   "outputs": [],
   "source": [
    "train_images = train_images / 255.0\n",
    "\n",
    "test_images = test_images / 255.0"
   ]
  },
  {
   "cell_type": "code",
   "execution_count": 6,
   "metadata": {},
   "outputs": [
    {
     "data": {
      "text/plain": [
       "(60000, 28, 28)"
      ]
     },
     "execution_count": 6,
     "metadata": {},
     "output_type": "execute_result"
    }
   ],
   "source": [
    "train_images.shape"
   ]
  },
  {
   "cell_type": "code",
   "execution_count": 17,
   "metadata": {},
   "outputs": [],
   "source": [
    "input1 = keras.Input(shape=(28, 28))"
   ]
  },
  {
   "cell_type": "code",
   "execution_count": 18,
   "metadata": {},
   "outputs": [],
   "source": [
    "input2 = keras.Input(shape=(28, 28))"
   ]
  },
  {
   "cell_type": "code",
   "execution_count": 19,
   "metadata": {},
   "outputs": [],
   "source": [
    "x1 = keras.layers.Flatten()(input1)\n",
    "x2 = keras.layers.Flatten()(input2)"
   ]
  },
  {
   "cell_type": "code",
   "execution_count": 20,
   "metadata": {},
   "outputs": [],
   "source": [
    "x = keras.layers.concatenate([x1, x2])"
   ]
  },
  {
   "cell_type": "code",
   "execution_count": 21,
   "metadata": {},
   "outputs": [],
   "source": [
    "x = keras.layers.Dense(32, activation='relu')(x)"
   ]
  },
  {
   "cell_type": "code",
   "execution_count": 22,
   "metadata": {},
   "outputs": [],
   "source": [
    "output = keras.layers.Dense(1, activation='sigmoid')(x)"
   ]
  },
  {
   "cell_type": "code",
   "execution_count": 23,
   "metadata": {},
   "outputs": [],
   "source": [
    "model = keras.Model(inputs=[input1, input2], outputs=output)"
   ]
  },
  {
   "cell_type": "code",
   "execution_count": 24,
   "metadata": {},
   "outputs": [
    {
     "name": "stdout",
     "output_type": "stream",
     "text": [
      "Model: \"model_1\"\n",
      "__________________________________________________________________________________________________\n",
      "Layer (type)                    Output Shape         Param #     Connected to                     \n",
      "==================================================================================================\n",
      "input_2 (InputLayer)            [(None, 28, 28)]     0                                            \n",
      "__________________________________________________________________________________________________\n",
      "input_3 (InputLayer)            [(None, 28, 28)]     0                                            \n",
      "__________________________________________________________________________________________________\n",
      "flatten_1 (Flatten)             (None, 784)          0           input_2[0][0]                    \n",
      "__________________________________________________________________________________________________\n",
      "flatten_2 (Flatten)             (None, 784)          0           input_3[0][0]                    \n",
      "__________________________________________________________________________________________________\n",
      "concatenate (Concatenate)       (None, 1568)         0           flatten_1[0][0]                  \n",
      "                                                                 flatten_2[0][0]                  \n",
      "__________________________________________________________________________________________________\n",
      "dense_3 (Dense)                 (None, 32)           50208       concatenate[0][0]                \n",
      "__________________________________________________________________________________________________\n",
      "dense_4 (Dense)                 (None, 1)            33          dense_3[0][0]                    \n",
      "==================================================================================================\n",
      "Total params: 50,241\n",
      "Trainable params: 50,241\n",
      "Non-trainable params: 0\n",
      "__________________________________________________________________________________________________\n"
     ]
    }
   ],
   "source": [
    "model.summary()"
   ]
  },
  {
   "cell_type": "code",
   "execution_count": null,
   "metadata": {},
   "outputs": [],
   "source": []
  },
  {
   "cell_type": "code",
   "execution_count": null,
   "metadata": {},
   "outputs": [],
   "source": []
  },
  {
   "cell_type": "code",
   "execution_count": null,
   "metadata": {},
   "outputs": [],
   "source": []
  },
  {
   "cell_type": "code",
   "execution_count": null,
   "metadata": {},
   "outputs": [],
   "source": []
  },
  {
   "cell_type": "code",
   "execution_count": null,
   "metadata": {},
   "outputs": [],
   "source": []
  },
  {
   "cell_type": "code",
   "execution_count": null,
   "metadata": {},
   "outputs": [],
   "source": []
  },
  {
   "cell_type": "code",
   "execution_count": null,
   "metadata": {},
   "outputs": [],
   "source": []
  },
  {
   "cell_type": "code",
   "execution_count": 9,
   "metadata": {},
   "outputs": [],
   "source": [
    "x = keras.layers.Dense(32, activation='relu')(x)"
   ]
  },
  {
   "cell_type": "code",
   "execution_count": 10,
   "metadata": {},
   "outputs": [],
   "source": [
    "x = keras.layers.Dropout(0.5)(x)"
   ]
  },
  {
   "cell_type": "code",
   "execution_count": 11,
   "metadata": {},
   "outputs": [],
   "source": [
    "x = keras.layers.Dense(64, activation='relu')(x)"
   ]
  },
  {
   "cell_type": "code",
   "execution_count": 12,
   "metadata": {},
   "outputs": [],
   "source": [
    "output = keras.layers.Dense(10, activation='softmax')(x)"
   ]
  },
  {
   "cell_type": "code",
   "execution_count": 13,
   "metadata": {},
   "outputs": [],
   "source": [
    "model = keras.Model(inputs=input, outputs=output)"
   ]
  },
  {
   "cell_type": "code",
   "execution_count": 14,
   "metadata": {},
   "outputs": [
    {
     "name": "stdout",
     "output_type": "stream",
     "text": [
      "Model: \"model\"\n",
      "_________________________________________________________________\n",
      "Layer (type)                 Output Shape              Param #   \n",
      "=================================================================\n",
      "input_1 (InputLayer)         [(None, 28, 28)]          0         \n",
      "_________________________________________________________________\n",
      "flatten (Flatten)            (None, 784)               0         \n",
      "_________________________________________________________________\n",
      "dense (Dense)                (None, 32)                25120     \n",
      "_________________________________________________________________\n",
      "dropout (Dropout)            (None, 32)                0         \n",
      "_________________________________________________________________\n",
      "dense_1 (Dense)              (None, 64)                2112      \n",
      "_________________________________________________________________\n",
      "dense_2 (Dense)              (None, 10)                650       \n",
      "=================================================================\n",
      "Total params: 27,882\n",
      "Trainable params: 27,882\n",
      "Non-trainable params: 0\n",
      "_________________________________________________________________\n"
     ]
    }
   ],
   "source": [
    "model.summary()"
   ]
  },
  {
   "cell_type": "code",
   "execution_count": 15,
   "metadata": {},
   "outputs": [],
   "source": [
    "model.compile(optimizer='adam',\n",
    "              loss='sparse_categorical_crossentropy',\n",
    "              metrics=['accuracy'])"
   ]
  },
  {
   "cell_type": "code",
   "execution_count": 16,
   "metadata": {},
   "outputs": [
    {
     "name": "stdout",
     "output_type": "stream",
     "text": [
      "Train on 60000 samples, validate on 10000 samples\n",
      "Epoch 1/30\n",
      "60000/60000 [==============================] - 3s 45us/sample - loss: 0.8531 - accuracy: 0.6770 - val_loss: 0.5104 - val_accuracy: 0.8172\n",
      "Epoch 2/30\n",
      "60000/60000 [==============================] - 2s 39us/sample - loss: 0.6511 - accuracy: 0.7580 - val_loss: 0.5345 - val_accuracy: 0.8104\n",
      "Epoch 3/30\n",
      "60000/60000 [==============================] - 2s 40us/sample - loss: 0.6023 - accuracy: 0.7747 - val_loss: 0.5178 - val_accuracy: 0.7978\n",
      "Epoch 4/30\n",
      "60000/60000 [==============================] - 2s 41us/sample - loss: 0.5773 - accuracy: 0.7856 - val_loss: 0.5921 - val_accuracy: 0.7645\n",
      "Epoch 5/30\n",
      "60000/60000 [==============================] - 2s 41us/sample - loss: 0.5647 - accuracy: 0.7915 - val_loss: 0.5017 - val_accuracy: 0.8119\n",
      "Epoch 6/30\n",
      "60000/60000 [==============================] - 2s 39us/sample - loss: 0.5492 - accuracy: 0.7974 - val_loss: 0.5410 - val_accuracy: 0.7993\n",
      "Epoch 7/30\n",
      "60000/60000 [==============================] - 2s 39us/sample - loss: 0.5440 - accuracy: 0.7990 - val_loss: 0.5238 - val_accuracy: 0.7945\n",
      "Epoch 8/30\n",
      "60000/60000 [==============================] - 2s 39us/sample - loss: 0.5347 - accuracy: 0.8018 - val_loss: 0.5531 - val_accuracy: 0.7765\n",
      "Epoch 9/30\n",
      "60000/60000 [==============================] - 2s 39us/sample - loss: 0.5355 - accuracy: 0.8010 - val_loss: 0.5912 - val_accuracy: 0.7669\n",
      "Epoch 10/30\n",
      "60000/60000 [==============================] - 2s 39us/sample - loss: 0.5232 - accuracy: 0.8055 - val_loss: 0.5932 - val_accuracy: 0.7789\n",
      "Epoch 11/30\n",
      "60000/60000 [==============================] - 2s 38us/sample - loss: 0.5182 - accuracy: 0.8084 - val_loss: 0.5153 - val_accuracy: 0.8035\n",
      "Epoch 12/30\n",
      "60000/60000 [==============================] - 2s 40us/sample - loss: 0.5140 - accuracy: 0.8094 - val_loss: 0.4897 - val_accuracy: 0.8215\n",
      "Epoch 13/30\n",
      "60000/60000 [==============================] - 2s 40us/sample - loss: 0.5150 - accuracy: 0.8106 - val_loss: 0.5330 - val_accuracy: 0.7992\n",
      "Epoch 14/30\n",
      "60000/60000 [==============================] - 2s 38us/sample - loss: 0.5056 - accuracy: 0.8121 - val_loss: 0.5223 - val_accuracy: 0.7951\n",
      "Epoch 15/30\n",
      "60000/60000 [==============================] - 2s 39us/sample - loss: 0.5073 - accuracy: 0.8132 - val_loss: 0.5037 - val_accuracy: 0.8082\n",
      "Epoch 16/30\n",
      "60000/60000 [==============================] - 2s 38us/sample - loss: 0.5053 - accuracy: 0.8129 - val_loss: 0.5365 - val_accuracy: 0.7981\n",
      "Epoch 17/30\n",
      "60000/60000 [==============================] - 2s 40us/sample - loss: 0.5020 - accuracy: 0.8160 - val_loss: 0.5388 - val_accuracy: 0.7967\n",
      "Epoch 18/30\n",
      "60000/60000 [==============================] - 2s 41us/sample - loss: 0.4961 - accuracy: 0.8170 - val_loss: 0.4993 - val_accuracy: 0.8237\n",
      "Epoch 19/30\n",
      "60000/60000 [==============================] - 3s 42us/sample - loss: 0.4945 - accuracy: 0.8176 - val_loss: 0.5362 - val_accuracy: 0.8020\n",
      "Epoch 20/30\n",
      "60000/60000 [==============================] - 2s 41us/sample - loss: 0.4930 - accuracy: 0.8182 - val_loss: 0.5142 - val_accuracy: 0.8115\n",
      "Epoch 21/30\n",
      "60000/60000 [==============================] - 2s 41us/sample - loss: 0.4896 - accuracy: 0.8194 - val_loss: 0.4775 - val_accuracy: 0.8276\n",
      "Epoch 22/30\n",
      "60000/60000 [==============================] - 3s 42us/sample - loss: 0.4881 - accuracy: 0.8189 - val_loss: 0.5260 - val_accuracy: 0.7969\n",
      "Epoch 23/30\n",
      "60000/60000 [==============================] - 3s 42us/sample - loss: 0.4889 - accuracy: 0.8195 - val_loss: 0.5776 - val_accuracy: 0.7780\n",
      "Epoch 24/30\n",
      "60000/60000 [==============================] - 2s 41us/sample - loss: 0.4808 - accuracy: 0.8219 - val_loss: 0.5775 - val_accuracy: 0.7881\n",
      "Epoch 25/30\n",
      "60000/60000 [==============================] - 3s 42us/sample - loss: 0.4811 - accuracy: 0.8240 - val_loss: 0.5506 - val_accuracy: 0.7943\n",
      "Epoch 26/30\n",
      "60000/60000 [==============================] - 2s 42us/sample - loss: 0.4754 - accuracy: 0.8245 - val_loss: 0.5156 - val_accuracy: 0.8099\n",
      "Epoch 27/30\n",
      "60000/60000 [==============================] - 2s 41us/sample - loss: 0.4810 - accuracy: 0.8227 - val_loss: 0.6026 - val_accuracy: 0.7651\n",
      "Epoch 28/30\n",
      "60000/60000 [==============================] - 2s 41us/sample - loss: 0.4737 - accuracy: 0.8257 - val_loss: 0.5631 - val_accuracy: 0.7921\n",
      "Epoch 29/30\n",
      "60000/60000 [==============================] - 3s 42us/sample - loss: 0.4789 - accuracy: 0.8233 - val_loss: 0.5744 - val_accuracy: 0.7812\n",
      "Epoch 30/30\n",
      "60000/60000 [==============================] - 3s 43us/sample - loss: 0.4797 - accuracy: 0.8238 - val_loss: 0.5155 - val_accuracy: 0.8229\n"
     ]
    }
   ],
   "source": [
    "history = model.fit(train_images, \n",
    "                    train_labels, \n",
    "                    epochs=30, \n",
    "                    validation_data=(test_images, test_labels))"
   ]
  },
  {
   "cell_type": "code",
   "execution_count": 24,
   "metadata": {},
   "outputs": [
    {
     "name": "stdout",
     "output_type": "stream",
     "text": [
      "10000/10000 [==============================] - 0s 29us/sample - loss: 0.3565 - accuracy: 0.8797\n"
     ]
    }
   ],
   "source": [
    "test_loss, test_acc = model.evaluate(test_images, test_labels)"
   ]
  },
  {
   "cell_type": "code",
   "execution_count": 25,
   "metadata": {},
   "outputs": [
    {
     "data": {
      "text/plain": [
       "<matplotlib.legend.Legend at 0x20168291ba8>"
      ]
     },
     "execution_count": 25,
     "metadata": {},
     "output_type": "execute_result"
    },
    {
     "data": {
      "image/png": "[encoded data removed]",
      "text/plain": [
       "<Figure size 432x288 with 1 Axes>"
      ]
     },
     "metadata": {
      "needs_background": "light"
     },
     "output_type": "display_data"
    }
   ],
   "source": [
    "plt.plot(history.epoch, history.history['loss'], 'r', label='loss')\n",
    "plt.plot(history.epoch, history.history['val_loss'], 'b--', label='val_loss')\n",
    "plt.legend()"
   ]
  },
  {
   "cell_type": "code",
   "execution_count": 26,
   "metadata": {},
   "outputs": [
    {
     "data": {
      "text/plain": [
       "[<matplotlib.lines.Line2D at 0x2016831a048>]"
      ]
     },
     "execution_count": 26,
     "metadata": {},
     "output_type": "execute_result"
    },
    {
     "data": {
      "image/png": "[encoded data removed]",
      "text/plain": [
       "<Figure size 432x288 with 1 Axes>"
      ]
     },
     "metadata": {
      "needs_background": "light"
     },
     "output_type": "display_data"
    }
   ],
   "source": [
    "plt.plot(history.epoch, history.history['accuracy'], 'r')\n",
    "plt.plot(history.epoch, history.history['val_accuracy'], 'b--')"
   ]
  },
  {
   "cell_type": "code",
   "execution_count": null,
   "metadata": {},
   "outputs": [],
   "source": []
  }
 ],
 "metadata": {
  "kernelspec": {
   "display_name": "Python 3",
   "language": "python",
   "name": "python3"
  },
  "language_info": {
   "codemirror_mode": {
    "name": "ipython",
    "version": 3
   },
   "file_extension": ".py",
   "mimetype": "text/x-python",
   "name": "python",
   "nbconvert_exporter": "python",
   "pygments_lexer": "ipython3",
   "version": "3.8.3"
  }
 },
 "nbformat": 4,
 "nbformat_minor": 2
}
